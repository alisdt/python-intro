{
 "cells": [
  {
   "cell_type": "markdown",
   "metadata": {},
   "source": [
    "A variable is a way of putting a label, or a name on a value.\n",
    "\n",
    "The value is some useful piece of information, like a number or some text (a \"string\").\n",
    "\n",
    "The variable is a name that you give to this value.\n",
    "\n",
    "Try this:\n",
    "\n",
    "```python\n",
    "x = 4\n",
    "print(x)\n",
    "```"
   ]
  },
  {
   "cell_type": "code",
   "execution_count": null,
   "metadata": {},
   "outputs": [],
   "source": []
  },
  {
   "cell_type": "markdown",
   "metadata": {},
   "source": [
    "Note that in Jupyter values are carried over between cells. So above you set the variable `x` to 4, here it will still be 4.\n",
    "\n",
    "Try this in the cell below:\n",
    "    \n",
    "```python\n",
    "print(x)\n",
    "```"
   ]
  },
  {
   "cell_type": "code",
   "execution_count": null,
   "metadata": {},
   "outputs": [],
   "source": []
  },
  {
   "cell_type": "markdown",
   "metadata": {},
   "source": [
    "You can re-use the same variable for another value -- this replaces the previous value\n",
    "\n",
    "```python\n",
    "x = \"Hello!\"\n",
    "print(x)\n",
    "```"
   ]
  },
  {
   "cell_type": "code",
   "execution_count": null,
   "metadata": {},
   "outputs": [],
   "source": []
  },
  {
   "cell_type": "markdown",
   "metadata": {},
   "source": [
    "You can set a variable with another variable.\n",
    "\n",
    "```python\n",
    "y = 1200\n",
    "print(y)\n",
    "z = y\n",
    "print(z)\n",
    "```"
   ]
  },
  {
   "cell_type": "markdown",
   "metadata": {},
   "source": [
    "You can use a variable for something other than just printing:\n",
    "    \n",
    "```python\n",
    "count = 12\n",
    "total = count + 4\n",
    "print(total)\n",
    "```"
   ]
  },
  {
   "cell_type": "code",
   "execution_count": null,
   "metadata": {},
   "outputs": [],
   "source": []
  },
  {
   "cell_type": "markdown",
   "metadata": {},
   "source": [
    "It's good to make variable names meaningful, rather than just using single letters. For example,\n",
    "\n",
    "```python\n",
    "x = 12\n",
    "```\n",
    "gives you no information about what the value means, whereas something like\n",
    "\n",
    "```python\n",
    "number_of_people = 12\n",
    "```\n",
    "helps you to remember what the value is for.\n",
    "\n",
    "There are rules about what you can use as a variable name, and what you can't. These variable names are allowed:\n",
    "\n",
    "```python\n",
    "myvariable = 0\n",
    "my_variable = 0\n",
    "MyVariable = 0\n",
    "```\n",
    "\n",
    "These are not allowed as variable names (try one of them and see what happens):\n",
    "\n",
    "```python\n",
    "my variable = 0\n",
    "my!variable = 0\n",
    "my.variable = 0\n",
    "```\n",
    "\n",
    "Since Python doesn't allow spaces in variable names, we need some way to combine multiple words. Some ways to do this:\n",
    "\n",
    "```python\n",
    "justsquashwordstogether = \"unreadable\"\n",
    "useCapitalLetters = \"more readable\"\n",
    "underscores_are_great = \"also readable\"\n",
    "```\n",
    "\n",
    "As you see more program code you'll encounter all of these."
   ]
  },
  {
   "cell_type": "code",
   "execution_count": null,
   "metadata": {},
   "outputs": [],
   "source": []
  },
  {
   "cell_type": "markdown",
   "metadata": {},
   "source": [
    "You can make a calculation with a variable and put the result into\n",
    "another variable. For example:\n",
    "\n",
    "```python\n",
    "greeting = \"Hello\"\n",
    "greeting_with_exclamation = greeting + \"!\"\n",
    "print(greeting_with_exclamation)\n",
    "```"
   ]
  },
  {
   "cell_type": "code",
   "execution_count": null,
   "metadata": {
    "collapsed": true
   },
   "outputs": [],
   "source": []
  },
  {
   "cell_type": "markdown",
   "metadata": {},
   "source": [
    "### Exercise\n",
    "\n",
    "What happens if you try to use a variable that you haven't given a value to?\n",
    "\n",
    "```python\n",
    "print(i_dont_exist)\n",
    "```"
   ]
  },
  {
   "cell_type": "code",
   "execution_count": null,
   "metadata": {},
   "outputs": [],
   "source": []
  },
  {
   "cell_type": "markdown",
   "metadata": {},
   "source": [
    "We can reuse a name while changing it. (This is hard to explain but easy to see in code).\n",
    "\n",
    "Try this:\n",
    "\n",
    "```python\n",
    "word = \"bold\"\n",
    "word = word + \"er\"\n",
    "print(word)\n",
    "```\n",
    "\n",
    "and this:\n",
    "\n",
    "```python\n",
    "count = 4\n",
    "count = count + 1\n",
    "print(count)\n",
    "```"
   ]
  },
  {
   "cell_type": "code",
   "execution_count": null,
   "metadata": {},
   "outputs": [],
   "source": []
  },
  {
   "cell_type": "markdown",
   "metadata": {},
   "source": [
    "This is such a common thing to do that Python allows us to abbreviate it. For example, instead of:\n",
    "\n",
    "```python\n",
    "x = x + 1\n",
    "```\n",
    "\n",
    "you can write\n",
    "\n",
    "```python\n",
    "x += 1\n",
    "```\n",
    "\n",
    "and it has the same effect. Both of these mean \"add 1 to `x`\".\n",
    "\n",
    "The equivalent of the first example would be:\n",
    "\n",
    "```python\n",
    "word = \"bold\"\n",
    "word += \"er\"\n",
    "print(word)\n",
    "```"
   ]
  },
  {
   "cell_type": "markdown",
   "metadata": {},
   "source": [
    "We can also use `-=`, `*=` etc. Another example:\n",
    "    \n",
    "```python\n",
    "total = 9\n",
    "total = total * 3\n",
    "print(total)\n",
    "```\n",
    "\n",
    "is equivalent to\n",
    "\n",
    "```python\n",
    "total = 9\n",
    "total *= 3\n",
    "print(total)\n",
    "```\n",
    "\n",
    "If you want to try this out, remember you can type the first of these, run it, edit the cell, and then run it again -- just press Shift-Enter to run it a second time."
   ]
  },
  {
   "cell_type": "code",
   "execution_count": null,
   "metadata": {},
   "outputs": [],
   "source": []
  }
 ],
 "metadata": {
  "kernelspec": {
   "display_name": "Python 3 (ipykernel)",
   "language": "python",
   "name": "python3"
  },
  "language_info": {
   "codemirror_mode": {
    "name": "ipython",
    "version": 3
   },
   "file_extension": ".py",
   "mimetype": "text/x-python",
   "name": "python",
   "nbconvert_exporter": "python",
   "pygments_lexer": "ipython3",
   "version": "3.9.2"
  }
 },
 "nbformat": 4,
 "nbformat_minor": 1
}
