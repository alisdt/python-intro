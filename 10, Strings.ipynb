{
 "cells": [
  {
   "cell_type": "markdown",
   "metadata": {},
   "source": [
    "### Methods and functions\n",
    "\n",
    "As you've seen, a function takes a number of values and returns one. For example (don't type this in):\n",
    "\n",
    "```python\n",
    "t = myfunc(x, y, z)\n",
    "```\n",
    "\n",
    "A *method* is a type of function, but one of the values is written to the left of the function name and joined with a `.`\n",
    "\n",
    "```python\n",
    "t = x.myfunc(y, z)\n",
    "```\n",
    "\n",
    "This is still a function, and still takes a, b and c as input. The reason this is done is to do with object-oriented programming and is beyond the scope of this course -- for now, just consider that the first parameter to the left of the function name (here `x`) is the most important parameter to the function."
   ]
  },
  {
   "cell_type": "markdown",
   "metadata": {},
   "source": [
    "### String methods\n",
    "\n",
    "Try these:\n",
    "\n",
    "```python\n",
    "city = \"Edinburgh\"\n",
    "print(city.endswith(\"urgh\"))\n",
    "print(city.startswith(\"Glas\"))\n",
    "print(city.replace(\"Edin\",\"Pitts\"))\n",
    "```\n",
    "\n",
    "Do they do what you expect?"
   ]
  },
  {
   "cell_type": "code",
   "execution_count": null,
   "metadata": {},
   "outputs": [],
   "source": []
  },
  {
   "cell_type": "markdown",
   "metadata": {},
   "source": [
    "This works on any string -- it can be in a variable.\n",
    "\n",
    "So we could do this:\n",
    "\n",
    "```python\n",
    "greeting = \"Hello world\"\n",
    "old_place = \"world\"\n",
    "new_place = \"universe\"\n",
    "new_greeting = greeting.replace(old_place, new_place)\n",
    "print(new_greeting)\n",
    "```"
   ]
  },
  {
   "cell_type": "code",
   "execution_count": null,
   "metadata": {
    "collapsed": true
   },
   "outputs": [],
   "source": []
  },
  {
   "cell_type": "markdown",
   "metadata": {},
   "source": [
    "How about translating to upper case?\n",
    "\n",
    "```python\n",
    "shouting = new_greeting.upper()\n",
    "print(shouting)\n",
    "```"
   ]
  },
  {
   "cell_type": "code",
   "execution_count": null,
   "metadata": {
    "collapsed": true
   },
   "outputs": [],
   "source": []
  },
  {
   "cell_type": "markdown",
   "metadata": {},
   "source": [
    "Or lower case:\n",
    "\n",
    "```python\n",
    "whispering = new_greeting.lower()\n",
    "print(whispering)\n",
    "```"
   ]
  },
  {
   "cell_type": "code",
   "execution_count": null,
   "metadata": {
    "collapsed": true
   },
   "outputs": [],
   "source": []
  },
  {
   "cell_type": "markdown",
   "metadata": {},
   "source": [
    "We can use the `in` keyword to check that a string is contained within another:\n",
    "\n",
    "Try this:\n",
    "\n",
    "```python\n",
    "print(\"dog\" in \"endogenous\")\n",
    "```\n",
    "\n",
    "As you've seen previously, if an operation produces a boolean (True or False) value, it can be used with `if`."
   ]
  },
  {
   "cell_type": "code",
   "execution_count": null,
   "metadata": {
    "collapsed": true
   },
   "outputs": [],
   "source": []
  },
  {
   "cell_type": "markdown",
   "metadata": {},
   "source": [
    "### Operators\n",
    "\n",
    "If there was a function `add` to add together numbers, we could type:\n",
    "\n",
    "```python\n",
    "x = add(a,b)\n",
    "```\n",
    "\n",
    "Because it's more natural to make the code look like a mathematical formula, instead we use:\n",
    "\n",
    "```python\n",
    "x = a + b\n",
    "```\n",
    "\n",
    "The plus symbol, `+`, is an `operator` in Python. This means that instead of the normal way of calling a function, you use a plus sign. Even so, you can think of it as a function that takes two numbers as parameters and returns a number.\n",
    "\n",
    "As well as the mathematical symbols, Python has a few other operators. One of them is `in`:\n",
    "\n",
    "```python\n",
    "a in b\n",
    "```\n",
    "\n",
    "which is used to ask the question \"is a in b?\" or \"does b contain a?"
   ]
  },
  {
   "cell_type": "markdown",
   "metadata": {},
   "source": [
    "### Exercise\n",
    "\n",
    "Take the string \"Hello world\" and replace the letter `l` with\n",
    "an exclamation mark, !"
   ]
  },
  {
   "cell_type": "code",
   "execution_count": null,
   "metadata": {
    "collapsed": true
   },
   "outputs": [],
   "source": [
    "greeting = \"Hello world\""
   ]
  },
  {
   "cell_type": "markdown",
   "metadata": {},
   "source": [
    "### Exercise\n",
    "\n",
    "Use the following two strings with upper(), lower() and + to make \"hello WORLD\""
   ]
  },
  {
   "cell_type": "code",
   "execution_count": null,
   "metadata": {
    "collapsed": true
   },
   "outputs": [],
   "source": [
    "greeting = \"Hello\"\n",
    "place = \"world\""
   ]
  }
 ],
 "metadata": {
  "kernelspec": {
   "display_name": "Python 3 (ipykernel)",
   "language": "python",
   "name": "python3"
  },
  "language_info": {
   "codemirror_mode": {
    "name": "ipython",
    "version": 3
   },
   "file_extension": ".py",
   "mimetype": "text/x-python",
   "name": "python",
   "nbconvert_exporter": "python",
   "pygments_lexer": "ipython3",
   "version": "3.9.2"
  }
 },
 "nbformat": 4,
 "nbformat_minor": 1
}
