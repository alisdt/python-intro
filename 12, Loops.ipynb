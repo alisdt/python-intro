{
 "cells": [
  {
   "cell_type": "markdown",
   "metadata": {},
   "source": [
    "A loop repeats a section of code for different values\n",
    "of a given variable.\n",
    "\n",
    "```python\n",
    "for x in [\"a\", \"b\", \"c\"]:\n",
    "    print(f\"The value of x is {x}\")\n",
    "```\n",
    "\n",
    "A loop has a head and a body. In the **head**:\n",
    "\n",
    "```python\n",
    "for x in [\"a\", \"b\", \"c\"]:\n",
    "```\n",
    "\n",
    "* There is a new variable (here `x`) which will only exist inside the loop.\n",
    "* The list (here `[\"a\", \"b\", \"c\"]`) gives some values to loop over.\n",
    "\n",
    "In the **body**:\n",
    "\n",
    "```python\n",
    "    print(f\"The value of x is {x}\")\n",
    "```\n",
    "\n",
    "* This code will be run for every value given to `x`.\n",
    "\n",
    "So for this example:\n",
    "\n",
    "* The variable `x` is first set to \"a\", and the loop body is run.\n",
    "* Then `x` is set to \"b\" and the loop body is run again.\n",
    "* Finally, `x` is set to \"c\" and the code is run again.\n",
    "\n",
    "A loop will run for as many values as you give it."
   ]
  },
  {
   "cell_type": "code",
   "execution_count": null,
   "metadata": {
    "collapsed": true
   },
   "outputs": [],
   "source": []
  },
  {
   "cell_type": "markdown",
   "metadata": {},
   "source": [
    "To count to 10, you can do this:\n",
    "\n",
    "```python\n",
    "numbers = [1,2,3,4,5,6,7,8,9,10]\n",
    "for count in numbers:\n",
    "    print(f\"Count is at {count}\")\n",
    "```\n",
    "\n",
    "Try it."
   ]
  },
  {
   "cell_type": "code",
   "execution_count": null,
   "metadata": {
    "collapsed": true
   },
   "outputs": [],
   "source": []
  },
  {
   "cell_type": "markdown",
   "metadata": {},
   "source": [
    "There's a quicker way! Python gives us a nice shortcut called range() for this.\n",
    "\n",
    "### Exercise\n",
    "\n",
    "The code below isn't quite right, we want it to show the numbers 1 to 10. Run it and see what it does.\n",
    "Now try to correct the code so that it will show the numbers 1 to 10, and run it again.\n",
    "How do you think this works, in general?"
   ]
  },
  {
   "cell_type": "code",
   "execution_count": null,
   "metadata": {},
   "outputs": [],
   "source": [
    "for count in range(1,10):\n",
    "    print(f\"Count is at {count}\")"
   ]
  },
  {
   "cell_type": "markdown",
   "metadata": {},
   "source": [
    "Note that the items given to loop over don't have to be numbers -- any list will do:\n",
    "\n",
    "```python\n",
    "colours = [\"red\", \"green\", \"blue\", \"orange\"]\n",
    "for colour in colours:\n",
    "    print(f\"I like {colour}\")\n",
    "```"
   ]
  },
  {
   "cell_type": "markdown",
   "metadata": {},
   "source": [
    "### Exercise\n",
    "\n",
    "Complete the function below, so that it only prints names that start with \"a\". Look back at the worksheet on strings -- the `startswith()` method will be useful here! You'll also want to use `if`."
   ]
  },
  {
   "cell_type": "code",
   "execution_count": null,
   "metadata": {
    "collapsed": true
   },
   "outputs": [],
   "source": [
    "def names_with_A(names):\n",
    "    for x in names:\n",
    "        # Add some more code here!"
   ]
  },
  {
   "cell_type": "markdown",
   "metadata": {},
   "source": [
    "Now try calling this function:"
   ]
  },
  {
   "cell_type": "code",
   "execution_count": null,
   "metadata": {},
   "outputs": [],
   "source": [
    "names = [\n",
    "    \"Alexandria\", \"Dalene\", \"Salena\", \"Sam\", \"Annika\", \"Melva\",\n",
    "    \"Ahmed\", \"Stacy\", \"Algernon\"\n",
    "]\n",
    "names_with_A(names)"
   ]
  },
  {
   "cell_type": "markdown",
   "metadata": {},
   "source": [
    "Change your function so that it will only print names that begin **and** end with \"a\". You might want to take a look back at the worksheet on combining conditions. Now try it again by re-running the cell above."
   ]
  },
  {
   "cell_type": "markdown",
   "metadata": {},
   "source": [
    "### Example\n",
    "\n",
    "This function takes a list of numbers, and returns the sum total. Remember that you can use `return` in a function to pass a value back to where the function was called."
   ]
  },
  {
   "cell_type": "code",
   "execution_count": null,
   "metadata": {},
   "outputs": [],
   "source": [
    "def sum_of(numbers):\n",
    "    total = 0\n",
    "    for x in numbers:\n",
    "        total += x\n",
    "    return total"
   ]
  },
  {
   "cell_type": "markdown",
   "metadata": {},
   "source": [
    "Try this out:"
   ]
  },
  {
   "cell_type": "code",
   "execution_count": null,
   "metadata": {},
   "outputs": [],
   "source": [
    "print(sum_of([1,2,3]))"
   ]
  },
  {
   "cell_type": "markdown",
   "metadata": {},
   "source": [
    "How do you think this works?"
   ]
  },
  {
   "cell_type": "markdown",
   "metadata": {},
   "source": [
    "### Extra Exercise\n",
    "\n",
    "Complete the function definition below to create a function that takes a list of colours, and returns\n",
    "a string with the colours separated by spaces. For example, if the\n",
    "list of colours is:\n",
    "\n",
    "```python\n",
    "colours = [\"red\", \"green\", \"blue\"]\n",
    "```\n",
    "\n",
    "the output will be:\n",
    "\n",
    "```python\n",
    "\"red green blue\"\n",
    "```\n",
    " \n",
    "Your code should work however many colours there are in the list.\n",
    "\n",
    "It doesn't matter if there is an extra space at the end.\n",
    "\n",
    "Recall that you can add something to an existing string like this:\n",
    "\n",
    "```python\n",
    "my_string += \"thing to add\"\n",
    "```\n"
   ]
  },
  {
   "cell_type": "code",
   "execution_count": null,
   "metadata": {},
   "outputs": [],
   "source": [
    "def join_strings(colours):"
   ]
  },
  {
   "cell_type": "markdown",
   "metadata": {},
   "source": [
    "Now test your function using the code below. Try it again with a few extra colours in the list."
   ]
  },
  {
   "cell_type": "code",
   "execution_count": null,
   "metadata": {},
   "outputs": [],
   "source": [
    "print(join_strings([\"red\",\"green\",\"blue\"]))"
   ]
  },
  {
   "cell_type": "markdown",
   "metadata": {},
   "source": [
    "### Extra Exercise\n",
    "\n",
    "Complete the function definition below to create a function that takes a list of colours, and returns a string like this:\n",
    "\n",
    "```python\n",
    "\"I like red and green and blue\"\n",
    "```\n",
    "\n",
    "Your code should work however many colours there are in the list."
   ]
  },
  {
   "cell_type": "code",
   "execution_count": null,
   "metadata": {
    "collapsed": true
   },
   "outputs": [],
   "source": [
    "def make_sentence(colours):"
   ]
  },
  {
   "cell_type": "markdown",
   "metadata": {},
   "source": [
    "Now test your function using the code below. Try it again with a few extra colours in the list."
   ]
  },
  {
   "cell_type": "code",
   "execution_count": null,
   "metadata": {},
   "outputs": [],
   "source": [
    "print(make_sentence([\"red\",\"green\",\"blue\"]))"
   ]
  },
  {
   "cell_type": "markdown",
   "metadata": {},
   "source": [
    "### Extra exercise\n",
    "\n",
    "What happens when there are no colours? What should happen? Change your function to take account of this. Remember if you change a function, you have to rerun the cell that it's in for Python to take notice of the change. Test this with the code below."
   ]
  },
  {
   "cell_type": "code",
   "execution_count": null,
   "metadata": {},
   "outputs": [],
   "source": [
    "print(make_sentence([]))"
   ]
  },
  {
   "cell_type": "markdown",
   "metadata": {},
   "source": [
    "While these are useful exercises, when you're writing something\n",
    "simple like this, always look for an existing function first!\n",
    "\n",
    "Python has a built-in sum function, and there is a string method\n",
    "called \"join\".\n",
    "\n",
    "```python\n",
    "print(sum([1,2,3]))\n",
    "print(\" \".join(colours))\n",
    "print(\"I like \"+\" and \".join(colours))\n",
    "```"
   ]
  },
  {
   "cell_type": "code",
   "execution_count": null,
   "metadata": {
    "collapsed": true
   },
   "outputs": [],
   "source": []
  }
 ],
 "metadata": {
  "anaconda-cloud": {},
  "kernelspec": {
   "display_name": "Python 3 (ipykernel)",
   "language": "python",
   "name": "python3"
  },
  "language_info": {
   "codemirror_mode": {
    "name": "ipython",
    "version": 3
   },
   "file_extension": ".py",
   "mimetype": "text/x-python",
   "name": "python",
   "nbconvert_exporter": "python",
   "pygments_lexer": "ipython3",
   "version": "3.9.2"
  }
 },
 "nbformat": 4,
 "nbformat_minor": 1
}
