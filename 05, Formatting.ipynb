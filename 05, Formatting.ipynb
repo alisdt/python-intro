{
 "cells": [
  {
   "cell_type": "markdown",
   "metadata": {},
   "source": [
    "In this section, use the examples below as guidance, but think of something different to show, and translate the example! So instead of the variable `count` in the example, you might want to print your age, or the year, or a different number entirely ...."
   ]
  },
  {
   "cell_type": "markdown",
   "metadata": {
    "collapsed": false
   },
   "source": [
    "What if you want to print a number and some text?\n",
    "\n",
    "```python\n",
    "count = 8\n",
    "print(\"The number of things is\")\n",
    "print(count)\n",
    "```"
   ]
  },
  {
   "cell_type": "code",
   "execution_count": null,
   "metadata": {
    "collapsed": true
   },
   "outputs": [],
   "source": []
  },
  {
   "cell_type": "markdown",
   "metadata": {
    "collapsed": false
   },
   "source": [
    "That works, but if we want it all on one line ....\n",
    "\n",
    "What do you think this will do? Try it and see if you were right.\n",
    "\n",
    "```python\n",
    "print(\"The number of things is \"+count)\n",
    "```"
   ]
  },
  {
   "cell_type": "code",
   "execution_count": null,
   "metadata": {
    "collapsed": true
   },
   "outputs": [],
   "source": []
  },
  {
   "cell_type": "markdown",
   "metadata": {
    "collapsed": false
   },
   "source": [
    "As we saw before, you can't add a number and some text!\n",
    "\n",
    "To read the error message, it's useful to know that in Python, 'int' means *integer* i.e. a whole number, and 'str' means a *string* or piece of text.\n",
    "\n",
    "Instead, you can use string formatting to do this."
   ]
  },
  {
   "cell_type": "markdown",
   "metadata": {
    "collapsed": false
   },
   "source": [
    "In a *format string* `{}` means \"take the next thing I give you and put it into the text\"\n",
    "\n",
    "```python\n",
    "text = \"The number of things is {}\".format(count)\n",
    "print(text)\n",
    "```"
   ]
  },
  {
   "cell_type": "code",
   "execution_count": null,
   "metadata": {
    "collapsed": false
   },
   "outputs": [],
   "source": []
  },
  {
   "cell_type": "markdown",
   "metadata": {
    "collapsed": false
   },
   "source": [
    "You can use this to put multiple other things in a string. Formatting will put them in to the format string in the order you give them after `format`:\n",
    "\n",
    "```python\n",
    "favourite_number = 0\n",
    "text = \"There are {} things, I like number {}\".format(count,favourite_number)\n",
    "print(text)\n",
    "```"
   ]
  },
  {
   "cell_type": "code",
   "execution_count": null,
   "metadata": {
    "collapsed": true
   },
   "outputs": [],
   "source": []
  },
  {
   "cell_type": "markdown",
   "metadata": {},
   "source": [
    "**A note on Python code**\n",
    "\n",
    "There's no need to type out the next two examples, they are just there to illustrate what you can do. But please do try this in code if you want!\n",
    "\n",
    "In Python, when you have an \"open bracket\" you can use line breaks to space out the code, until the \"close bracket\". The line above:\n",
    "\n",
    "```python\n",
    "text = \"There are {} things, I like number {}\".format(count,favourite_number)\n",
    "```\n",
    "\n",
    "might be seen a little too long. This line can be broken after `format(`, the neat way to do this would be:\n",
    "\n",
    "```python\n",
    "text = \"There are {} things, I like number {}\".format(\n",
    "    count,\n",
    "    favourite_number\n",
    ")\n",
    "```\n",
    "\n",
    "At the moment we've only used round brackets or parentheses `()`, but as you will see later on Python uses square brackets `[]` and curly brackets `{}`, and this rule applies to them too."
   ]
  },
  {
   "cell_type": "markdown",
   "metadata": {
    "collapsed": false
   },
   "source": [
    "Instead of just giving the items to `format` in order, we can give them names. This is very useful when there are lots of different things being formatted!\n",
    "\n",
    "```python\n",
    "text = \"There are {things} things, I like number {fav}\".format(\n",
    "    things=count,\n",
    "    fav=favourite_number\n",
    ")\n",
    "print(text)\n",
    "```\n",
    "\n",
    "Try it."
   ]
  },
  {
   "cell_type": "code",
   "execution_count": null,
   "metadata": {
    "collapsed": false
   },
   "outputs": [],
   "source": []
  },
  {
   "cell_type": "markdown",
   "metadata": {
    "collapsed": false
   },
   "source": [
    "Sticking with this example, the format string can also be put in a variable. This can help to keep the code readable when the format string is long.\n",
    "\n",
    "```python\n",
    "fmt = \"Number of things is {things}, my favourite number is {fav}\"\n",
    "text = fmt.format(\n",
    "    things=count,\n",
    "    fav=favourite_number\n",
    ")\n",
    "print(text)\n",
    "```"
   ]
  },
  {
   "cell_type": "markdown",
   "metadata": {
    "collapsed": false
   },
   "source": [
    "Format is very flexible and can be used for other purposes\n",
    "For example, you can specify the number of decimal places you\n",
    "want to show for a number with a fraction.\n",
    "Let's have a look at the documentation.\n",
    "\n",
    "In general, python.org is a good place to look for information."
   ]
  },
  {
   "cell_type": "markdown",
   "metadata": {},
   "source": [
    "https://docs.python.org/3/library/string.html#formatspec"
   ]
  },
  {
   "cell_type": "markdown",
   "metadata": {
    "collapsed": false
   },
   "source": [
    "Here's an example of a format string.\n",
    "\n",
    "`.3f` here means 'three decimal places'\n",
    "\n",
    "```python\n",
    "my_value = 1.23456789\n",
    "print(\"The value is {:.3f}\".format(my_value))\n",
    "```"
   ]
  },
  {
   "cell_type": "code",
   "execution_count": null,
   "metadata": {
    "collapsed": false
   },
   "outputs": [],
   "source": []
  },
  {
   "cell_type": "markdown",
   "metadata": {
    "collapsed": false
   },
   "source": [
    "If you have a name for your value, this goes before the `:` in the format specifier:\n",
    "\n",
    "```python\n",
    "total = 1234.56789\n",
    "print(\"{balance:.2f}\".format(balance=total))\n",
    "```"
   ]
  },
  {
   "cell_type": "code",
   "execution_count": 20,
   "metadata": {
    "collapsed": false
   },
   "outputs": [
    {
     "name": "stdout",
     "output_type": "stream",
     "text": [
      "1234.57\n"
     ]
    }
   ],
   "source": []
  },
  {
   "cell_type": "markdown",
   "metadata": {
    "collapsed": false
   },
   "source": [
    "There are lots more of these! Look them up when you need them."
   ]
  },
  {
   "cell_type": "markdown",
   "metadata": {
    "collapsed": false
   },
   "source": [
    "### Exercise\n",
    "\n",
    "Your objective is to print the string \"There are 10 seats in room 4.01\"\n",
    "\n",
    "* Define a variable \"seats\" containing the number 10\n",
    "* Define a variable \"room\" containing the number 4.01\n",
    "* Define a variable \"fmt\" containing a format string\n",
    "\n",
    "What if you want to change this to \"Room 4.01 has 10 seats\"?"
   ]
  },
  {
   "cell_type": "code",
   "execution_count": null,
   "metadata": {
    "collapsed": false
   },
   "outputs": [],
   "source": []
  },
  {
   "cell_type": "markdown",
   "metadata": {
    "collapsed": false
   },
   "source": [
    "### Extra exercise\n",
    "\n",
    "Use the *result* of the previous exercise, with another\n",
    "format string, to print the following line, including quotes:\n",
    "\n",
    "I said, \"There are 10 seats in room 4.01\""
   ]
  },
  {
   "cell_type": "code",
   "execution_count": null,
   "metadata": {
    "collapsed": false
   },
   "outputs": [],
   "source": []
  }
 ],
 "metadata": {
  "anaconda-cloud": {},
  "kernelspec": {
   "display_name": "Python [default]",
   "language": "python",
   "name": "python3"
  },
  "language_info": {
   "codemirror_mode": {
    "name": "ipython",
    "version": 3
   },
   "file_extension": ".py",
   "mimetype": "text/x-python",
   "name": "python",
   "nbconvert_exporter": "python",
   "pygments_lexer": "ipython3",
   "version": "3.5.2"
  }
 },
 "nbformat": 4,
 "nbformat_minor": 0
}
