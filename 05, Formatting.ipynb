{
 "cells": [
  {
   "cell_type": "markdown",
   "metadata": {},
   "source": [
    "In this section, use the examples below as guidance, but think of something different to show, and translate the example! So instead of the variable `count` in the example, you might want to print your age, or the year, or a different number entirely ...."
   ]
  },
  {
   "cell_type": "markdown",
   "metadata": {},
   "source": [
    "What if you want to print a number and some text?\n",
    "\n",
    "```python\n",
    "count = 8\n",
    "print(\"The number of things is\")\n",
    "print(count)\n",
    "```"
   ]
  },
  {
   "cell_type": "code",
   "execution_count": null,
   "metadata": {},
   "outputs": [],
   "source": [
    "count = 8\n",
    "print(\"The number of things is\")\n",
    "print(count)"
   ]
  },
  {
   "cell_type": "markdown",
   "metadata": {},
   "source": [
    "That works, but if we want it all on one line ....\n",
    "\n",
    "What do you think this will do? Try it and see if you were right.\n",
    "\n",
    "```python\n",
    "print(\"The number of things is \"+count)\n",
    "```"
   ]
  },
  {
   "cell_type": "code",
   "execution_count": null,
   "metadata": {},
   "outputs": [],
   "source": [
    "print(\"The number of things is \"+count)"
   ]
  },
  {
   "cell_type": "markdown",
   "metadata": {},
   "source": [
    "As we saw before, you can't add a number and some text!\n",
    "\n",
    "To read the error message, it's useful to know that in Python, 'int' means *integer* i.e. a whole number, and 'str' means a *string* or piece of text.\n",
    "\n",
    "Instead, you can use string formatting to do this."
   ]
  },
  {
   "cell_type": "markdown",
   "metadata": {},
   "source": [
    "You can make an *f-string* by putting an `f` in front of the first quote. In an f-string, `{varname}` means \"take the value in  the variable `varname` and put it into the text\".\n",
    "\n",
    "For example:\n",
    "\n",
    "```python\n",
    "text = f\"The number of things is {count}\".format(count)\n",
    "print(text)\n",
    "```"
   ]
  },
  {
   "cell_type": "code",
   "execution_count": null,
   "metadata": {},
   "outputs": [],
   "source": [
    "text = f\"The number of things is {count}\".format(count)\n",
    "print(text)"
   ]
  },
  {
   "cell_type": "markdown",
   "metadata": {},
   "source": [
    "You can use this to put multiple values into a string:\n",
    "\n",
    "```python\n",
    "favourite_number = 42\n",
    "text = f\"There are {count} things, I like number {favourite_number}\"\n",
    "print(text)\n",
    "```"
   ]
  },
  {
   "cell_type": "code",
   "execution_count": null,
   "metadata": {},
   "outputs": [],
   "source": [
    "favourite_number = 42"
   ]
  },
  {
   "cell_type": "markdown",
   "metadata": {},
   "source": [
    "**A note on Python code**\n",
    "\n",
    "There's no need to type out the next two examples, they are just there to illustrate what you can do. But please do try this in code if you want!\n",
    "\n",
    "In Python, when you have an \"open bracket\" you can use line breaks and spaces to make the code more readable, until the \"close bracket\". The line above:\n",
    "\n",
    "```python\n",
    "text = f\"There are {count} things, I like number {favourite_number}\"\n",
    "```\n",
    "\n",
    "might seem a little too long. We could break this into two strings:\n",
    "\n",
    "```python\n",
    "text = (\n",
    "    f\"There are {count} things, \"\n",
    "    f\"I like number {favourite_number}\"\n",
    ")\n",
    "```\n",
    "    \n",
    "Python will join these two together. Within an open bracket, we\n",
    "can have as many line breaks as we want.\n",
    "\n",
    "At the moment we've only used round brackets or parentheses `()`, but as you will see later on Python uses square brackets `[]` and curly brackets `{}`, and the rule about line breaks and spaces applies to them too."
   ]
  },
  {
   "cell_type": "code",
   "execution_count": null,
   "metadata": {},
   "outputs": [],
   "source": []
  },
  {
   "cell_type": "markdown",
   "metadata": {},
   "source": [
    "f-strings are very flexible!\n",
    "For example, you can specify the number of decimal places you\n",
    "want to show for a number with a fraction."
   ]
  },
  {
   "cell_type": "markdown",
   "metadata": {},
   "source": [
    "Here's an example of using formatting codes on the output.\n",
    "\n",
    "`.3f` here means 'three decimal places'\n",
    "\n",
    "```python\n",
    "my_value = 1.23456789\n",
    "print(f\"The value is {my_value:.3f}\")\n",
    "```"
   ]
  },
  {
   "cell_type": "code",
   "execution_count": null,
   "metadata": {},
   "outputs": [],
   "source": []
  },
  {
   "cell_type": "markdown",
   "metadata": {},
   "source": [
    "There are lots more of these codes! The official documentation is here:\n",
    "https://docs.python.org/3/library/string.html#formatspec\n",
    "but that is a bit too much if you're just starting out ....\n",
    "\n",
    "Look them up when you need them, a quick search will find lots of simpler guides to this."
   ]
  },
  {
   "cell_type": "markdown",
   "metadata": {},
   "source": [
    "### Expressions\n",
    "\n",
    "The curly brackets can also contain a Python *expression* instead of just a variable name. Broadly speaking an expression is anything that you can do in Python that gives you a value back. One example would be a mathematical calculation:\n",
    "\n",
    "```python\n",
    "start_value = 10\n",
    "print(f\"Two times {start_value} is {start_value*2}\")\n",
    "```\n",
    "\n",
    "You could also call a function inside the curly brackets. We haven't looked at functions yet&mdash;there will be more about them in 08."
   ]
  },
  {
   "cell_type": "code",
   "execution_count": null,
   "metadata": {},
   "outputs": [],
   "source": []
  },
  {
   "cell_type": "markdown",
   "metadata": {},
   "source": [
    "### Exercise\n",
    "\n",
    "Your objective is to print the string \"There are 10 seats in room 4.01\"\n",
    "\n",
    "* Define a variable \"seats\" containing the number 10\n",
    "* Define a variable \"room\" containing the number 4.01\n",
    "\n",
    "What if you want to change this to \"Room 4.01 has 10 seats\"?"
   ]
  },
  {
   "cell_type": "code",
   "execution_count": null,
   "metadata": {},
   "outputs": [],
   "source": []
  },
  {
   "cell_type": "markdown",
   "metadata": {},
   "source": [
    "### Extra exercise\n",
    "\n",
    "Use the *result* of the previous exercise, with another\n",
    "format string, to print the following line, including quotes:\n",
    "\n",
    "I said, \"There are 10 seats in room 4.01\""
   ]
  },
  {
   "cell_type": "code",
   "execution_count": null,
   "metadata": {},
   "outputs": [],
   "source": []
  }
 ],
 "metadata": {
  "anaconda-cloud": {},
  "kernelspec": {
   "display_name": "Python 3 (ipykernel)",
   "language": "python",
   "name": "python3"
  },
  "language_info": {
   "codemirror_mode": {
    "name": "ipython",
    "version": 3
   },
   "file_extension": ".py",
   "mimetype": "text/x-python",
   "name": "python",
   "nbconvert_exporter": "python",
   "pygments_lexer": "ipython3",
   "version": "3.9.2"
  }
 },
 "nbformat": 4,
 "nbformat_minor": 1
}
