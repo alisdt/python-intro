{
 "cells": [
  {
   "cell_type": "markdown",
   "metadata": {
    "collapsed": false
   },
   "source": [
    "A list can contain any number of things.\n",
    "They are stored in order.\n",
    "\n",
    "```python\n",
    "colours = [\"blue\", \"green\", \"orange\", \"purple\", \"black\", \"yellow\"]\n",
    "```\n",
    "\n",
    "Here we're using a variable for the list; remember, variables can be used to give a name to any type of value!"
   ]
  },
  {
   "cell_type": "code",
   "execution_count": null,
   "metadata": {
    "collapsed": true
   },
   "outputs": [],
   "source": []
  },
  {
   "cell_type": "markdown",
   "metadata": {
    "collapsed": false
   },
   "source": [
    "You can retrieve items from the list by 'indexing'\n",
    "The indices start at 0 -- so item 0 is the first:\n",
    "\n",
    "```python\n",
    "print(colours[0])\n",
    "```"
   ]
  },
  {
   "cell_type": "code",
   "execution_count": null,
   "metadata": {
    "collapsed": false
   },
   "outputs": [],
   "source": []
  },
  {
   "cell_type": "markdown",
   "metadata": {
    "collapsed": false
   },
   "source": [
    ".... item 1 is the second, and so on.\n",
    "\n",
    "```python\n",
    "print(colours[1])\n",
    "```"
   ]
  },
  {
   "cell_type": "code",
   "execution_count": null,
   "metadata": {
    "collapsed": true
   },
   "outputs": [],
   "source": []
  },
  {
   "cell_type": "markdown",
   "metadata": {
    "collapsed": false
   },
   "source": [
    "You can start counting from the end.\n",
    "The last item has index -1, the second last -2, and so on\n",
    "\n",
    "```python\n",
    "print(colours[-1])\n",
    "print(colours[-2])\n",
    "```"
   ]
  },
  {
   "cell_type": "code",
   "execution_count": null,
   "metadata": {
    "collapsed": false
   },
   "outputs": [],
   "source": []
  },
  {
   "cell_type": "markdown",
   "metadata": {
    "collapsed": false
   },
   "source": [
    "Try changing the list at the top -- add or remove a colour\n",
    "Now run the cells below it again, and see the changes."
   ]
  },
  {
   "cell_type": "markdown",
   "metadata": {
    "collapsed": false
   },
   "source": [
    "### Exercise\n",
    "\n",
    "Indexing Golf! For the following lists, use indexing to\n",
    "find the capital letters \"B\". For example:"
   ]
  },
  {
   "cell_type": "code",
   "execution_count": null,
   "metadata": {
    "collapsed": false
   },
   "outputs": [],
   "source": [
    "items = [\"a\", \"a\", \"B\", \"a\", \"a\", \"a\"]\n",
    "print(items[2])"
   ]
  },
  {
   "cell_type": "markdown",
   "metadata": {},
   "source": [
    "Now try these:"
   ]
  },
  {
   "cell_type": "code",
   "execution_count": 2,
   "metadata": {
    "collapsed": false
   },
   "outputs": [],
   "source": [
    "items = [\"B\", \"a\", \"a\", \"a\", \"a\", \"a\", \"a\", \"a\"]"
   ]
  },
  {
   "cell_type": "code",
   "execution_count": null,
   "metadata": {
    "collapsed": false
   },
   "outputs": [],
   "source": [
    "items = [\"a\", \"a\", \"a\", \"B\"]"
   ]
  },
  {
   "cell_type": "code",
   "execution_count": null,
   "metadata": {
    "collapsed": false
   },
   "outputs": [],
   "source": [
    "items = [\"a\", \"a\", \"a\", \"a\", \"B\", \"a\", \"a\", \"a\"]"
   ]
  },
  {
   "cell_type": "code",
   "execution_count": null,
   "metadata": {
    "collapsed": false
   },
   "outputs": [],
   "source": [
    "items = [\"a\", \"a\", \"a\", \"a\", \"a\", \"B\", \"a\"]"
   ]
  },
  {
   "cell_type": "markdown",
   "metadata": {
    "collapsed": false
   },
   "source": [
    "To add something to the end of a list, use \"append\"\n",
    "\n",
    "```python\n",
    "colours.append(\"brown\")\n",
    "print(colours)\n",
    "```"
   ]
  },
  {
   "cell_type": "code",
   "execution_count": null,
   "metadata": {
    "collapsed": true
   },
   "outputs": [],
   "source": []
  },
  {
   "cell_type": "markdown",
   "metadata": {
    "collapsed": false
   },
   "source": [
    "You can add lists together\n",
    "\n",
    "```python\n",
    "all_the_colours = colours + [\"taupe\", \"cerise\"]\n",
    "print(all_the_colours)\n",
    "```"
   ]
  },
  {
   "cell_type": "code",
   "execution_count": null,
   "metadata": {
    "collapsed": true
   },
   "outputs": [],
   "source": []
  },
  {
   "cell_type": "markdown",
   "metadata": {
    "collapsed": false
   },
   "source": [
    "To insert a value at a given position (here, at \"index 0\" which is the\n",
    "start)\n",
    "\n",
    "```python\n",
    "colours.insert(0,\"violet\")\n",
    "print(colours)\n",
    "```"
   ]
  },
  {
   "cell_type": "code",
   "execution_count": null,
   "metadata": {
    "collapsed": true
   },
   "outputs": [],
   "source": []
  },
  {
   "cell_type": "markdown",
   "metadata": {
    "collapsed": false
   },
   "source": [
    "You can get the length of a list with len()\n",
    "\n",
    "```python\n",
    "print(len(colours))\n",
    "```"
   ]
  },
  {
   "cell_type": "code",
   "execution_count": null,
   "metadata": {
    "collapsed": true
   },
   "outputs": [],
   "source": []
  },
  {
   "cell_type": "markdown",
   "metadata": {
    "collapsed": false
   },
   "source": [
    "You can take part of a list out of another list using *slicing*.\n",
    "\n",
    "This requires a start index and an end index, separated using a colon. For example:\n",
    "\n",
    "```python\n",
    "print(colours[2:5])\n",
    "```"
   ]
  },
  {
   "cell_type": "code",
   "execution_count": null,
   "metadata": {
    "collapsed": true
   },
   "outputs": [],
   "source": []
  },
  {
   "cell_type": "markdown",
   "metadata": {
    "collapsed": false
   },
   "source": [
    "If you leave out the first index, it will run from the start of the list:\n",
    "\n",
    "```python\n",
    "print(colours[:4])\n",
    "```\n",
    "\n",
    "If you leave out the second index, it will run to the end of the list:\n",
    "\n",
    "```python\n",
    "print(colours[2:])\n",
    "```"
   ]
  },
  {
   "cell_type": "code",
   "execution_count": null,
   "metadata": {
    "collapsed": true
   },
   "outputs": [],
   "source": []
  },
  {
   "cell_type": "markdown",
   "metadata": {
    "collapsed": false
   },
   "source": [
    "Note the way slices are indexed:\n",
    "\n",
    "* as before, indexes start at 0, that is, 0 specifies the first item\n",
    "* is inclusive at the start and exclusive at the end\n",
    "* for example, colours[2:5] *includes* item 2 and *excludes* item 5\n",
    "\n",
    "If this doesn't seem to make too much sense, consider:\n",
    "\n",
    "```python\n",
    "print(colours[1:3]+colours[3:5])\n",
    "```"
   ]
  },
  {
   "cell_type": "code",
   "execution_count": null,
   "metadata": {
    "collapsed": true
   },
   "outputs": [],
   "source": []
  },
  {
   "cell_type": "markdown",
   "metadata": {},
   "source": [
    "### Exercise\n",
    "\n",
    "For the following lists, use indexing to find all\n",
    "the capital letters \"B\"\n",
    "\n",
    "For example:"
   ]
  },
  {
   "cell_type": "code",
   "execution_count": null,
   "metadata": {
    "collapsed": true
   },
   "outputs": [],
   "source": [
    "items = [\"a\", \"a\", \"B\", \"B\", \"B\", \"a\"]\n",
    "print(items[2:5])"
   ]
  },
  {
   "cell_type": "markdown",
   "metadata": {},
   "source": [
    "Now try these:"
   ]
  },
  {
   "cell_type": "code",
   "execution_count": 4,
   "metadata": {
    "collapsed": false
   },
   "outputs": [],
   "source": [
    "items = [\"B\", \"B\", \"a\"]"
   ]
  },
  {
   "cell_type": "code",
   "execution_count": 5,
   "metadata": {
    "collapsed": false
   },
   "outputs": [],
   "source": [
    "items = [\"a\", \"a\", \"a\", \"a\", \"B\", \"B\", \"B\"]"
   ]
  },
  {
   "cell_type": "code",
   "execution_count": 6,
   "metadata": {
    "collapsed": false
   },
   "outputs": [],
   "source": [
    "items = [\"a\", \"a\", \"a\", \"a\", \"B\", \"B\", \"a\"]"
   ]
  },
  {
   "cell_type": "code",
   "execution_count": 7,
   "metadata": {
    "collapsed": false
   },
   "outputs": [],
   "source": [
    "items = [\"a\", \"a\", \"B\", \"B\", \"B\", \"B\", \"B\", \"B\", \"a\"]"
   ]
  },
  {
   "cell_type": "markdown",
   "metadata": {
    "collapsed": false
   },
   "source": [
    "Finally, similarly to its use in strings, the 'in' keyword can be used to test that something is\n",
    "(or is not) in a list:\n",
    "\n",
    "```python\n",
    "print(\"green\" in colours)\n",
    "print(\"violet\" in colours)\n",
    "print(\"violet\" not in colours)\n",
    "```"
   ]
  },
  {
   "cell_type": "markdown",
   "metadata": {},
   "source": [
    "### Extra Exercise\n",
    "\n",
    "How do you think Python represents an empty list? Use `len()` to check the length of this and make sure you get `0`."
   ]
  },
  {
   "cell_type": "code",
   "execution_count": null,
   "metadata": {
    "collapsed": true
   },
   "outputs": [],
   "source": []
  }
 ],
 "metadata": {
  "anaconda-cloud": {},
  "kernelspec": {
   "display_name": "Python [default]",
   "language": "python",
   "name": "python3"
  },
  "language_info": {
   "codemirror_mode": {
    "name": "ipython",
    "version": 3
   },
   "file_extension": ".py",
   "mimetype": "text/x-python",
   "name": "python",
   "nbconvert_exporter": "python",
   "pygments_lexer": "ipython3",
   "version": "3.5.2"
  }
 },
 "nbformat": 4,
 "nbformat_minor": 0
}
