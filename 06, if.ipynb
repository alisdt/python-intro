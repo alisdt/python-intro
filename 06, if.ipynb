{
 "cells": [
  {
   "cell_type": "markdown",
   "metadata": {},
   "source": [
    "You can use `if` to make a decision in Python.\n",
    "\n",
    "```python\n",
    "biscuits = 0\n",
    "if biscuits > 0:\n",
    "    print(f\"We have {biscuits} biscuits\")\n",
    "```\n",
    "\n",
    "Try this. Run it once, then change number `0` in the first line `biscuits = 0`, to give a different value to `biscuits`. Run it again.\n",
    "\n",
    "What happens? Is it what you expected?"
   ]
  },
  {
   "cell_type": "code",
   "execution_count": null,
   "metadata": {
    "collapsed": true
   },
   "outputs": [],
   "source": []
  },
  {
   "cell_type": "markdown",
   "metadata": {},
   "source": [
    "This piece of code is called an `if` statement. We're using `if` to get Python to decide whether to do something or not.\n",
    "\n",
    "If the condition after `if` is true, then the code under it will run. If it's not true, then it won't run.\n",
    "\n",
    "The indented code is called a *code block*. \n",
    "\n",
    "### Code blocks\n",
    "\n",
    "Code blocks come after a line ending with `:` and are indented. The code block ends when the indentation ends. By convention the indentation is always four spaces. In JupyterHub you can just press the Tab key and it will insert four spaces for you.\n",
    "\n",
    "The code blocks in this worksheet are used to make decisions using `if`, but as you'll see, code blocks are used for lots of other things in Python.\n",
    "\n",
    "Here's an example:\n",
    "\n",
    "```python\n",
    "if biscuits > 1000:\n",
    "    print(\"Hooray!\")\n",
    "    print(\"We're rich (in biscuits)!\")\n",
    "\n",
    "print(\"Goodbye\")\n",
    "```\n",
    "\n",
    "The first two indented `print()` lines are inside the `if`. These will run in order if the condition is true. The last line is outside the `if` (it's back on the left side, not indented) and so will run whether the condition is true or false."
   ]
  },
  {
   "cell_type": "code",
   "execution_count": null,
   "metadata": {
    "collapsed": true
   },
   "outputs": [],
   "source": []
  },
  {
   "cell_type": "markdown",
   "metadata": {},
   "source": [
    "Change your code to look like this:\n",
    "\n",
    "```python\n",
    "biscuits = 0\n",
    "if biscuits > 0:\n",
    "    print(f\"We have {biscuits} biscuits\")\n",
    "else:\n",
    "    print(\"No biscuits left\")\n",
    "```\n",
    "\n",
    "As before try some different values for `biscuits` and see what happens."
   ]
  },
  {
   "cell_type": "code",
   "execution_count": null,
   "metadata": {
    "collapsed": true
   },
   "outputs": [],
   "source": []
  },
  {
   "cell_type": "markdown",
   "metadata": {},
   "source": [
    "Before we move on, here's a little bit of information about the use of equals (=) in Python.\n",
    "\n",
    "### Comparison and assignment (equals and other equals)\n",
    "\n",
    "**Assignment** is giving a variable a value, and looks like this:\n",
    "\n",
    "```python\n",
    "a = 3\n",
    "```\n",
    "\n",
    "** Comparison** is asking if two values are equal, and looks like this:\n",
    "\n",
    "```python\n",
    "age == 83\n",
    "```\n",
    "\n",
    "Usually you'll see comparison used with `if`:\n",
    "\n",
    "```python\n",
    "if age == 83:\n",
    "```\n",
    "\n",
    "It's an error to use assignment anywhere other than on its own:\n",
    "\n",
    "```python\n",
    "if a = 3:  # This is an error!\n",
    "```"
   ]
  },
  {
   "cell_type": "markdown",
   "metadata": {},
   "source": [
    "You can choose between more than one alternative with `elif`,\n",
    "like this. (`elif` is short for \"else-if\")\n",
    "\n",
    "```python\n",
    "animal = \"dog\"\n",
    "if animal == \"cat\":\n",
    "    print(\"Feed this animal fish\")\n",
    "elif animal == \"horse\":\n",
    "    print(\"Feed this animal hay\")\n",
    "elif animal == \"dog\":\n",
    "    print(\"Feed this animal meat\")\n",
    "else:\n",
    "    print(\"I don't know this animal! Feed it cake, maybe?\")\n",
    "```"
   ]
  },
  {
   "cell_type": "code",
   "execution_count": null,
   "metadata": {
    "collapsed": true
   },
   "outputs": [],
   "source": []
  },
  {
   "cell_type": "markdown",
   "metadata": {},
   "source": [
    "### Exercise\n",
    "\n",
    "Change the value of the variable `animal` at the top of the example above, and run the code again, to see\n",
    "the output change. Be sure to try something that is not\n",
    "mentioned in the code, as well!"
   ]
  },
  {
   "cell_type": "markdown",
   "metadata": {},
   "source": [
    "We can also try this with numeric inequalities (greater than and less than), for example:\n",
    "\n",
    "```python\n",
    "balance = 0\n",
    "if balance < 0:\n",
    "    print(f\"You owe me {balance}\")\n",
    "else:\n",
    "    print(f\"I owe you {balance}\")\n",
    "```"
   ]
  },
  {
   "cell_type": "code",
   "execution_count": null,
   "metadata": {
    "collapsed": true
   },
   "outputs": [],
   "source": []
  },
  {
   "cell_type": "markdown",
   "metadata": {},
   "source": [
    "### Exercise\n",
    "\n",
    "Try running the above code again, with a few different values for\n",
    "`balance`. Use values that are above and below zero\n",
    "\n",
    "* What's wrong with it?\n",
    "* Can you think of a way to correct it?\n",
    "\n",
    "**Note**: To change a number from negative to positive, you can just use `-` on its own. If you want to see this try:\n",
    "\n",
    "```python\n",
    "a = -12\n",
    "print(a)\n",
    "print(-a)\n",
    "```\n",
    "\n",
    "**Another note**: The bit inside the curly brackets in f-strings can contain a calculation or similar, rather than just a variable name (see 05 for a reminder)."
   ]
  },
  {
   "cell_type": "code",
   "execution_count": null,
   "metadata": {},
   "outputs": [],
   "source": []
  },
  {
   "cell_type": "markdown",
   "metadata": {},
   "source": [
    "### Exercise\n",
    "\n",
    "Change the code above to show \"You owe me nothing\" when the\n",
    "balance is exactly zero."
   ]
  },
  {
   "cell_type": "markdown",
   "metadata": {},
   "source": [
    "Some more notes on if:\n",
    "\n",
    "* the indented parts are referred to as \"code blocks\" or just \"blocks\"\n",
    "   and can contain multiple lines, including comments\n",
    "\n",
    "* the next bit of non-indented code ends the block\n",
    "\n",
    "* intentation is *four* spaces, in IPython you can hit Tab at the start\n",
    "   of a line, and it will do this automatically.\n",
    "\n",
    "* there can be multiple levels of indentation, for example an\n",
    "   if-statement within another\n",
    " \n",
    " Don't be afraid to follow the code with your finger! There are tools\n",
    " which can step through the code, though they are beyond the scope of\n",
    " this course."
   ]
  },
  {
   "cell_type": "markdown",
   "metadata": {},
   "source": [
    "An example of multiple-line blocks:\n",
    "\n",
    "```python\n",
    "animal = \"horse\"\n",
    "\n",
    "if animal.startswith(\"h\"):\n",
    "    # example of a multi-line code block\n",
    "    print(\"I think this might be a horse\")\n",
    "    print(\"though I'm not 100% sure\")\n",
    "else:\n",
    "    # another multi-line block\n",
    "    print(\"I'm pretty sure this isn't a horse\")\n",
    "    print(\"Sorry!\")\n",
    "\n",
    "# and now this is unindented and outside the if-statement entirely\n",
    "print(\"Goodbye!\")\n",
    "```\n",
    "\n",
    "Note that the blank lines above are unnecessary, though it's good style\n",
    "to make the code as readable as possible."
   ]
  },
  {
   "cell_type": "code",
   "execution_count": null,
   "metadata": {
    "collapsed": true
   },
   "outputs": [],
   "source": []
  },
  {
   "cell_type": "markdown",
   "metadata": {},
   "source": [
    "An example of levels of indentation, with multiple uses of `if`:\n",
    "\n",
    "```python\n",
    "animal = \"horse\"\n",
    "\n",
    "if animal.startswith(\"h\"):\n",
    "    if animal.endswith(\"orse\"):\n",
    "        print(\"I'm sure this is a horse!\")\n",
    "```"
   ]
  },
  {
   "cell_type": "code",
   "execution_count": null,
   "metadata": {
    "collapsed": true
   },
   "outputs": [],
   "source": []
  },
  {
   "cell_type": "markdown",
   "metadata": {},
   "source": [
    "### Exercise\n",
    "\n",
    "Can you think of a string that will \"fool\" the code above?\n",
    "(i.e. where the value of the variable `animal` is not \"horse\", but it still says\n",
    "that it is \"sure this is a horse\")"
   ]
  },
  {
   "cell_type": "code",
   "execution_count": null,
   "metadata": {
    "collapsed": true
   },
   "outputs": [],
   "source": []
  }
 ],
 "metadata": {
  "anaconda-cloud": {},
  "kernelspec": {
   "display_name": "Python 3 (ipykernel)",
   "language": "python",
   "name": "python3"
  },
  "language_info": {
   "codemirror_mode": {
    "name": "ipython",
    "version": 3
   },
   "file_extension": ".py",
   "mimetype": "text/x-python",
   "name": "python",
   "nbconvert_exporter": "python",
   "pygments_lexer": "ipython3",
   "version": "3.9.2"
  }
 },
 "nbformat": 4,
 "nbformat_minor": 1
}
