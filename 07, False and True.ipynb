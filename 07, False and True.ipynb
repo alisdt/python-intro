{
 "cells": [
  {
   "cell_type": "markdown",
   "metadata": {
    "collapsed": false
   },
   "source": [
    "In the previous section, you saw that `if` can be used to do something different depending on whether a condition is `True` or `False`. Let's look at these conditions a little more\n",
    "\n",
    "```python\n",
    "print(2 == 2)\n",
    "print(2 == 3)\n",
    "```"
   ]
  },
  {
   "cell_type": "code",
   "execution_count": null,
   "metadata": {
    "collapsed": false
   },
   "outputs": [],
   "source": []
  },
  {
   "cell_type": "markdown",
   "metadata": {},
   "source": [
    "### Reminder\n",
    "\n",
    "Recall from the previous section that:\n",
    "\n",
    "```python\n",
    "x = 3\n",
    "```\n",
    "\n",
    "means \"give the variable x the value 3\".\n",
    "\n",
    "A double equals `==` is used to ask if two values are equal -- so for example\n",
    "\n",
    "```python\n",
    "x == 3\n",
    "```\n",
    "\n",
    "is asking the question \"is x equal to 3?\""
   ]
  },
  {
   "cell_type": "markdown",
   "metadata": {
    "collapsed": false
   },
   "source": [
    "Other examples of comparisons are `<`, `>`, `>=`, `<=`\n",
    "\n",
    "```python\n",
    "print(10 > 8)\n",
    "print(0.1 <= 0.05)\n",
    "```"
   ]
  },
  {
   "cell_type": "code",
   "execution_count": null,
   "metadata": {
    "collapsed": true
   },
   "outputs": [],
   "source": []
  },
  {
   "cell_type": "markdown",
   "metadata": {
    "collapsed": false
   },
   "source": [
    "Of course all of these comparisons work with variables too:\n",
    "    \n",
    "    \n",
    "```python\n",
    "y = 4\n",
    "print(y >= 12)\n",
    "```"
   ]
  },
  {
   "cell_type": "code",
   "execution_count": null,
   "metadata": {
    "collapsed": true
   },
   "outputs": [],
   "source": []
  },
  {
   "cell_type": "markdown",
   "metadata": {
    "collapsed": false
   },
   "source": [
    "True and False are values, just like numbers or strings\n",
    "\n",
    "We can treat them in the same way.\n",
    "\n",
    "So in the same way we might say that:\n",
    "    \n",
    "The result of `2 + 3` is `5`\n",
    "\n",
    "We can say that:\n",
    "\n",
    "The result of `2 == 2` is `True`\n",
    "\n",
    "You'll see how this is used later on."
   ]
  },
  {
   "cell_type": "markdown",
   "metadata": {
    "collapsed": false
   },
   "source": [
    "### Example\n",
    "\n",
    "Checking a count against a limit\n",
    "\n",
    "```python\n",
    "count = 14\n",
    "limit = 15\n",
    "limit_passed = (count > limit)\n",
    "```"
   ]
  },
  {
   "cell_type": "code",
   "execution_count": null,
   "metadata": {
    "collapsed": false
   },
   "outputs": [],
   "source": []
  },
  {
   "cell_type": "markdown",
   "metadata": {
    "collapsed": false
   },
   "source": [
    "We can print these values with format, too\n",
    "\n",
    "```python\n",
    "text = \"Limit passed: {}, where count was {} and limit was {}\".format(\n",
    "    limit_passed, count, limit\n",
    ")\n",
    "print(text)\n",
    "```"
   ]
  },
  {
   "cell_type": "code",
   "execution_count": null,
   "metadata": {
    "collapsed": false
   },
   "outputs": [],
   "source": []
  },
  {
   "cell_type": "markdown",
   "metadata": {
    "collapsed": false
   },
   "source": [
    "You may see True and False referred to as \"Boolean\" values"
   ]
  },
  {
   "cell_type": "markdown",
   "metadata": {
    "collapsed": false
   },
   "source": [
    "### Exercise\n",
    "\n",
    "Write some code to check whether 299 times 134 is greater than 40000.\n",
    "\n",
    "If you want to, you can use `if` (though you don't need to).\n",
    "\n",
    "Start with:\n",
    "\n",
    "```python\n",
    "a = 299\n",
    "b = 134\n",
    "limit = 40000\n",
    "```"
   ]
  },
  {
   "cell_type": "code",
   "execution_count": null,
   "metadata": {
    "collapsed": false
   },
   "outputs": [],
   "source": []
  }
 ],
 "metadata": {
  "kernelspec": {
   "display_name": "Python 3",
   "language": "python",
   "name": "python3"
  },
  "language_info": {
   "codemirror_mode": {
    "name": "ipython",
    "version": 3
   },
   "file_extension": ".py",
   "mimetype": "text/x-python",
   "name": "python",
   "nbconvert_exporter": "python",
   "pygments_lexer": "ipython3",
   "version": "3.5.2"
  }
 },
 "nbformat": 4,
 "nbformat_minor": 0
}
