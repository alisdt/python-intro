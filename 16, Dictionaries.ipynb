{
 "cells": [
  {
   "cell_type": "markdown",
   "metadata": {
    "collapsed": false
   },
   "source": [
    "A dictionary (sometimes abbreviated to \"dict\") is a Python data structure which stores a\n",
    "correspondence between keys and values. Here's an example:\n",
    "\n",
    "```python\n",
    "vegetables = { \"carrots\": 5, \"lettuce\": 8, \"broccoli\": 24 }\n",
    "```\n",
    "\n",
    "Here the keys are `\"carrots\"`, `\"lettuce\"` and `\"broccoli\"`,\n",
    "and the corresponding values are `5`, `8`, `24`"
   ]
  },
  {
   "cell_type": "code",
   "execution_count": null,
   "metadata": {
    "collapsed": true
   },
   "outputs": [],
   "source": []
  },
  {
   "cell_type": "markdown",
   "metadata": {
    "collapsed": false
   },
   "source": [
    "You can look up a value from a dictionary by indexing.\n",
    "\n",
    "This is very similar to looking up a value in a list:\n",
    "\n",
    "```python\n",
    "print(vegetables[\"carrots\"])\n",
    "```"
   ]
  },
  {
   "cell_type": "code",
   "execution_count": null,
   "metadata": {
    "collapsed": true
   },
   "outputs": [],
   "source": []
  },
  {
   "cell_type": "markdown",
   "metadata": {
    "collapsed": false
   },
   "source": [
    "You can add or change values in a similar way:\n",
    "\n",
    "```python\n",
    "vegetables[\"carrots\"] = 9    # changes a previously set value\n",
    "vegetables[\"sprouts\"] = 0    # adds a new one\n",
    "print(vegetables)\n",
    "```"
   ]
  },
  {
   "cell_type": "code",
   "execution_count": null,
   "metadata": {
    "collapsed": true
   },
   "outputs": [],
   "source": []
  },
  {
   "cell_type": "markdown",
   "metadata": {
    "collapsed": false
   },
   "source": [
    "As with lists, you can remove a value with del\n",
    "\n",
    "```python\n",
    "del vegetables[\"broccoli\"]\n",
    "print(vegetables)\n",
    "```"
   ]
  },
  {
   "cell_type": "code",
   "execution_count": null,
   "metadata": {
    "collapsed": true
   },
   "outputs": [],
   "source": []
  },
  {
   "cell_type": "markdown",
   "metadata": {
    "collapsed": false
   },
   "source": [
    "Note that the keys must be constant values, and unique --\n",
    "you can't have two of the same key in one dictionary.\n",
    "There is no constraint on the values.\n",
    "\n",
    "```python\n",
    "dog_names = {\n",
    "    1: \"Rover\",\n",
    "    2: \"Fido\",\n",
    "    3: \"Bad\"\n",
    "}\n",
    "print(dog_names[1])\n",
    "```"
   ]
  },
  {
   "cell_type": "code",
   "execution_count": null,
   "metadata": {
    "collapsed": true
   },
   "outputs": [],
   "source": []
  },
  {
   "cell_type": "markdown",
   "metadata": {
    "collapsed": false
   },
   "source": [
    "You can have anything in the values! For example, lists:\n",
    "\n",
    "```python\n",
    "words = {\n",
    "    \"nouns\": [\"chair\", \"book\", \"table\"],\n",
    "    \"verbs\": [\"sing\", \"speak\", \"sigh\"]\n",
    "}\n",
    "```"
   ]
  },
  {
   "cell_type": "code",
   "execution_count": null,
   "metadata": {
    "collapsed": true
   },
   "outputs": [],
   "source": []
  },
  {
   "cell_type": "markdown",
   "metadata": {
    "collapsed": false
   },
   "source": [
    "It's very common to start off with an empty dictionary, and\n",
    "then add to it throughout a program, with values from input\n",
    "or calculation. A simple example:\n",
    "\n",
    "```python\n",
    "squares = {}\n",
    "for n in range(1,10):\n",
    "    squares[n] = n*n\n",
    "print(squares)\n",
    "```"
   ]
  },
  {
   "cell_type": "code",
   "execution_count": null,
   "metadata": {
    "collapsed": true
   },
   "outputs": [],
   "source": []
  },
  {
   "cell_type": "markdown",
   "metadata": {
    "collapsed": false
   },
   "source": [
    "As with lists, we can use `in` to check that a key is present\n",
    "in a dictionary. It only checks the *keys*, not the\n",
    "values. For example:\n",
    "\n",
    "```python\n",
    "print(\"nouns\" in words)\n",
    "print(\"adverbs\" in words)\n",
    "```"
   ]
  },
  {
   "cell_type": "code",
   "execution_count": null,
   "metadata": {
    "collapsed": true
   },
   "outputs": [],
   "source": []
  },
  {
   "cell_type": "markdown",
   "metadata": {
    "collapsed": false
   },
   "source": [
    "### Exercise: \n",
    "\n",
    "Complete the function below. This function takes one parameter, and:\n",
    "* if it is in the dict, should return the value for that key\n",
    "* if it is not in the dict, should return \"I don't know\""
   ]
  },
  {
   "cell_type": "code",
   "execution_count": null,
   "metadata": {
    "collapsed": false
   },
   "outputs": [],
   "source": [
    "def composer_birth_year(composer):\n",
    "    composer_born = {\n",
    "        \"Beethoven\": 1770,\n",
    "        \"Mozart\": 1756,\n",
    "        \"Haydn\": 1732\n",
    "    }"
   ]
  },
  {
   "cell_type": "markdown",
   "metadata": {},
   "source": [
    "Now try this out:"
   ]
  },
  {
   "cell_type": "code",
   "execution_count": null,
   "metadata": {
    "collapsed": false
   },
   "outputs": [],
   "source": [
    "print(composer_birth_year(\"Mozart\"))\n",
    "print(composer_birth_year(\"Nina Simone\"))"
   ]
  },
  {
   "cell_type": "markdown",
   "metadata": {
    "collapsed": false
   },
   "source": [
    "### Exercise\n",
    "\n",
    "Look back to the example in section \"06, if\" which\n",
    "uses the name of an animal and if .... elif .... else to\n",
    "decide what to feed the animal.\n",
    "\n",
    "Complete the function below so that it returns the right food for a given animal.\n",
    "\n",
    "Use a dictionary with the type of animal as the key, and the type\n",
    "of food as the value.\n",
    " \n",
    "Include the examples that were in the previous exercise."
   ]
  },
  {
   "cell_type": "code",
   "execution_count": null,
   "metadata": {
    "collapsed": false
   },
   "outputs": [],
   "source": []
  },
  {
   "cell_type": "code",
   "execution_count": 7,
   "metadata": {
    "collapsed": false
   },
   "outputs": [
    {
     "name": "stdout",
     "output_type": "stream",
     "text": [
      "fish\n",
      "cake\n"
     ]
    }
   ],
   "source": [
    "# Now try this out:\n",
    "print(animal_food(\"cat\"))\n",
    "print(animal_food(\"zebra\"))"
   ]
  },
  {
   "cell_type": "code",
   "execution_count": null,
   "metadata": {
    "collapsed": true
   },
   "outputs": [],
   "source": []
  }
 ],
 "metadata": {
  "anaconda-cloud": {},
  "kernelspec": {
   "display_name": "Python [default]",
   "language": "python",
   "name": "python3"
  },
  "language_info": {
   "codemirror_mode": {
    "name": "ipython",
    "version": 3
   },
   "file_extension": ".py",
   "mimetype": "text/x-python",
   "name": "python",
   "nbconvert_exporter": "python",
   "pygments_lexer": "ipython3",
   "version": "3.5.2"
  }
 },
 "nbformat": 4,
 "nbformat_minor": 0
}
