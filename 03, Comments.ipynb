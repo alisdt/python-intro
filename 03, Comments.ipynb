{
 "cells": [
  {
   "cell_type": "markdown",
   "metadata": {},
   "source": [
    "### Leaving yourself a note\n",
    "\n",
    "To leave yourself a note in Python code, you can use the hash character, `#`.\n",
    "\n",
    "```python\n",
    "# This says hello\n",
    "print(\"Hello!\")\n",
    "```"
   ]
  },
  {
   "cell_type": "markdown",
   "metadata": {},
   "source": [
    "In programming notes like this are called \"comments\".\n",
    "\n",
    "Comments don't have any effect on Python, in fact the `#` tells Python to ignore everything after it.\n",
    "\n",
    "That does mean you can have a line with some code, then a comment:\n",
    "\n",
    "```python\n",
    "print(\"Hello!\")  # This says hello\n",
    "```"
   ]
  },
  {
   "cell_type": "code",
   "execution_count": null,
   "metadata": {
    "collapsed": true
   },
   "outputs": [],
   "source": []
  },
  {
   "cell_type": "markdown",
   "metadata": {},
   "source": [
    "_Note for Mac laptops:_\n",
    "\n",
    "On a Mac laptop running Windows, the\n",
    "hash character \"#\" is produced by holding the right-hand Alt key and\n",
    "pressing \"3\".\n",
    "\n",
    "On a Mac running MacOS X this is much the same, though you can use\n",
    "either Alt key."
   ]
  },
  {
   "cell_type": "markdown",
   "metadata": {},
   "source": [
    "### Exercise: \"commenting out\"\n",
    "\n",
    "It's possible to temporarily disable a line of code by putting a `#` at the start of the line. Since Python ignores everything after the `#`, that line will not run. This is called \"commenting out\" the code.\n",
    "\n",
    "Run the code below with Shift-Enter. Then, put a `#` at the start of the second line, and run it again."
   ]
  },
  {
   "cell_type": "code",
   "execution_count": null,
   "metadata": {},
   "outputs": [],
   "source": [
    "print(\"Line 1\")\n",
    "print(\"Line 2\")"
   ]
  }
 ],
 "metadata": {
  "kernelspec": {
   "display_name": "Python 3 (ipykernel)",
   "language": "python",
   "name": "python3"
  },
  "language_info": {
   "codemirror_mode": {
    "name": "ipython",
    "version": 3
   },
   "file_extension": ".py",
   "mimetype": "text/x-python",
   "name": "python",
   "nbconvert_exporter": "python",
   "pygments_lexer": "ipython3",
   "version": "3.9.2"
  }
 },
 "nbformat": 4,
 "nbformat_minor": 1
}
