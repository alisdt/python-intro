{
 "cells": [
  {
   "cell_type": "markdown",
   "metadata": {},
   "source": [
    "### Files\n",
    "\n",
    "So far you've learned how to manipulate data, do calculations, and print results to the screen. For all but the simplest uses, we will also need to get information in and out of our programs. The simplest and most common way to do this is using a file."
   ]
  },
  {
   "cell_type": "markdown",
   "metadata": {},
   "source": [
    "To start with, create a text file on the notebook server.\n",
    "\n",
    "* Go back to your list of notebooks, or if you've closed the tab, click on the Jupyter logo at the top left of the page\n",
    "* Click on New -> Text File\n",
    "* Type at least three lines of text, and save the file (File -> Save)\n",
    "\n",
    "Now try opening the file in Python, using the\n",
    "`open()` function. For example:\n",
    "\n",
    "```python\n",
    "f = open(\"/home/atullo2/example_text_file.txt\")\n",
    "```\n",
    "\n",
    "Instead of the example string above, you'll have to find the *absolute path* of the file you created. That means all the directories that lead to your file, so that Python can find precisely where the file is on the computer. Since the notebook server runs on a Linux computer, by default the files are in `/home/username/`, where the username is your UUN."
   ]
  },
  {
   "cell_type": "code",
   "execution_count": null,
   "metadata": {},
   "outputs": [],
   "source": []
  },
  {
   "cell_type": "markdown",
   "metadata": {},
   "source": [
    "Now you've done this you'll have a \"file object\" (which is stored in `f`). This doesn't load the text yet.\n",
    "The \"file object\" tells Python where to find the file, and\n",
    "also has a notion of keeping track of how far through the\n",
    "file we are. Let's demonstrate this. Run the following one at a time:\n",
    "\n",
    "```python\n",
    "line = f.readline()\n",
    "print(line)\n",
    "```\n",
    "\n",
    "```python\n",
    "line2 = f.readline()\n",
    "print(line2)\n",
    "```"
   ]
  },
  {
   "cell_type": "code",
   "execution_count": null,
   "metadata": {},
   "outputs": [],
   "source": []
  },
  {
   "cell_type": "markdown",
   "metadata": {},
   "source": [
    "You can read all of the rest of the text in a file object with the `read()` method. Try this:\n",
    "\n",
    "```python\n",
    "text = f.read()\n",
    "print(text)\n",
    "```\n",
    "\n",
    "Now go back and load the file again by running the line starting `f = open( ....`. Run the lines above again to read the file. What's the difference? Can you see what's happening?"
   ]
  },
  {
   "cell_type": "code",
   "execution_count": null,
   "metadata": {
    "collapsed": true
   },
   "outputs": [],
   "source": []
  },
  {
   "cell_type": "markdown",
   "metadata": {},
   "source": [
    "You'll see that the file object keeps track of where you\n",
    "are in the file, something like a bookmark in a book."
   ]
  },
  {
   "cell_type": "markdown",
   "metadata": {},
   "source": [
    "### A note on Python strings and Windows path names.\n",
    "\n",
    "This isn't relevant to the notebook server, but it's useful to know.\n",
    "\n",
    "When typing Windows directory names in Python, the backslash `\\` can cause problems.\n",
    "\n",
    "In Python some special characters can be represented using backslashes. For example, to put\n",
    "line breaks in a string, we use \\n\n",
    "\n",
    "```python\n",
    "print(\"Hello\\nworld!\")\n",
    "```\n",
    "\n",
    "The `n` stands for *new line*."
   ]
  },
  {
   "cell_type": "code",
   "execution_count": null,
   "metadata": {},
   "outputs": [],
   "source": []
  },
  {
   "cell_type": "markdown",
   "metadata": {},
   "source": [
    "There are others of these -- for example \\t is a tab character\n",
    "\n",
    "```python\n",
    "print(\"Spacing\\tthings\\tout\\twith\\ttab\")\n",
    "```"
   ]
  },
  {
   "cell_type": "code",
   "execution_count": null,
   "metadata": {
    "collapsed": true
   },
   "outputs": [],
   "source": []
  },
  {
   "cell_type": "markdown",
   "metadata": {},
   "source": [
    "This is why, as above, you must use `r` before a string with backslashes in!\n",
    "\n",
    "Compare:\n",
    "\n",
    "```python\n",
    "print(\"C:\\my\\unfortunately\\named\\directory\")\n",
    "```\n",
    "\n",
    "with\n",
    "\n",
    "```python\n",
    "print(r\"C:\\my\\unfortunately\\named\\directory\")\n",
    "```\n"
   ]
  },
  {
   "cell_type": "code",
   "execution_count": null,
   "metadata": {
    "collapsed": true
   },
   "outputs": [],
   "source": []
  },
  {
   "cell_type": "markdown",
   "metadata": {},
   "source": [
    "In the first case, Python interpreted `\\n` as a newline. In the second, the `r` at the start of the string tells Python not to do this, and so the string is kept as it was typed."
   ]
  },
  {
   "cell_type": "markdown",
   "metadata": {},
   "source": [
    "### Exercise\n",
    "\n",
    "Read text from the file you created earlier, and using `open()` and `split()`, make a list with one item per line in the text"
   ]
  },
  {
   "cell_type": "code",
   "execution_count": null,
   "metadata": {},
   "outputs": [],
   "source": []
  },
  {
   "cell_type": "markdown",
   "metadata": {},
   "source": [
    "### Exercise\n",
    "\n",
    "\n",
    "Using `split()`, `if`, and a count variable, write\n",
    "a function which counts the number of occurrences of a given\n",
    "word in a piece of text.\n",
    " \n",
    "This takes two parameters, the first is the text and the\n",
    "second is the word to search for."
   ]
  },
  {
   "cell_type": "code",
   "execution_count": 1,
   "metadata": {
    "collapsed": true
   },
   "outputs": [],
   "source": [
    "def count_word(text, word):\n"
   ]
  },
  {
   "cell_type": "markdown",
   "metadata": {},
   "source": [
    "Test your function by running the code below -- it should return 3."
   ]
  },
  {
   "cell_type": "code",
   "execution_count": null,
   "metadata": {},
   "outputs": [],
   "source": [
    "print(count_word(\"hello hello and hello again\",\"hello\"))"
   ]
  },
  {
   "cell_type": "markdown",
   "metadata": {},
   "source": [
    "Try it out with some more examples."
   ]
  },
  {
   "cell_type": "markdown",
   "metadata": {},
   "source": [
    "### Exercise\n",
    "\n",
    "Create a file object for Kant's *Critique of Pure Reason* \n",
    "(this can be found in the file `reason.txt` on the course web page) and\n",
    "read it into a string. Count the number of occurrences of the word\n",
    "\"the\" in the text. (The text is an English translation)."
   ]
  },
  {
   "cell_type": "code",
   "execution_count": null,
   "metadata": {},
   "outputs": [],
   "source": []
  }
 ],
 "metadata": {
  "anaconda-cloud": {},
  "kernelspec": {
   "display_name": "Python 3 (ipykernel)",
   "language": "python",
   "name": "python3"
  },
  "language_info": {
   "codemirror_mode": {
    "name": "ipython",
    "version": 3
   },
   "file_extension": ".py",
   "mimetype": "text/x-python",
   "name": "python",
   "nbconvert_exporter": "python",
   "pygments_lexer": "ipython3",
   "version": "3.9.2"
  }
 },
 "nbformat": 4,
 "nbformat_minor": 1
}
