{
 "cells": [
  {
   "cell_type": "markdown",
   "metadata": {
    "collapsed": false
   },
   "source": [
    "### Notes on Jupyter Notebook\n",
    "\n",
    "Here are some quick notes on the Jupyter Notebook environment.\n",
    "\n",
    "There are a number of special commands. These are triggered\n",
    "by hitting the Esc key while a cell is selected, then another\n",
    "key or keys. (No need to hold down Esc.)"
   ]
  },
  {
   "cell_type": "markdown",
   "metadata": {},
   "source": [
    "### Help!\n",
    "\n",
    "**Esc-h** gives you the list of keyboard commands in Jupyter Notebook."
   ]
  },
  {
   "cell_type": "markdown",
   "metadata": {},
   "source": [
    "### Creating and deleting cells\n",
    "\n",
    "**Esc-a** creates a new cell *above* the current one\n",
    "\n",
    "**Esc-b** creates a new cell *below* the current one"
   ]
  },
  {
   "cell_type": "markdown",
   "metadata": {
    "collapsed": false
   },
   "source": [
    "### Cut and paste of cells\n",
    "\n",
    "**Esc-x** cuts a cell.\n",
    "\n",
    "**Esc-v** will then paste it *below* the current cell"
   ]
  },
  {
   "cell_type": "markdown",
   "metadata": {
    "collapsed": false
   },
   "source": [
    "### Exercise \n",
    "    \n",
    "Create a new cell, cut it, and paste it somewhere else."
   ]
  },
  {
   "cell_type": "markdown",
   "metadata": {
    "collapsed": false
   },
   "source": [
    "### Deleting cells\n",
    "\n",
    "You can delete a cell with **Esc-d-d** (i.e. press 'd' twice).\n",
    "\n",
    "**Esc-z** will undo your last delete."
   ]
  },
  {
   "cell_type": "markdown",
   "metadata": {},
   "source": [
    "### Run all cells\n",
    "\n",
    "Finally, a very useful function of Jupyter Notebook is the\n",
    "ability to run all cells in order. It's easy to forget which\n",
    "cells you have run, and in which order. In the menu above you\n",
    "can select \"Cell\" and then \"Run all\" to rerun a whole notebook.\n",
    "\n",
    "Note that if a running a cell produces an error it'll stop -- so it won't always run all the way to the end."
   ]
  },
  {
   "cell_type": "markdown",
   "metadata": {
    "collapsed": false
   },
   "source": [
    "### Exercise\n",
    "\n",
    "Go to one of your other previous notebooks, and try\n",
    "this now."
   ]
  }
 ],
 "metadata": {
  "kernelspec": {
   "display_name": "Python 3",
   "language": "python",
   "name": "python3"
  },
  "language_info": {
   "codemirror_mode": {
    "name": "ipython",
    "version": 3
   },
   "file_extension": ".py",
   "mimetype": "text/x-python",
   "name": "python",
   "nbconvert_exporter": "python",
   "pygments_lexer": "ipython3",
   "version": "3.5.2"
  }
 },
 "nbformat": 4,
 "nbformat_minor": 0
}
