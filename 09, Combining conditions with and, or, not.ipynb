{
 "cells": [
  {
   "cell_type": "markdown",
   "metadata": {},
   "source": [
    "In Python `if` with an appropriate comparison allows you to check a condition, and do something according to the result. What if you want to check two conditions together? For example, what if you want to know if it's 7pm or later on a Saturday? (These examples are just illustrative, no need to type them in).\n",
    "\n",
    "It's possible to test:\n",
    "\n",
    "```python\n",
    "if day == \"Saturday\":\n",
    "    print(\"success\")\n",
    "```\n",
    "\n",
    "or\n",
    "\n",
    "```python\n",
    "if hour >= 19:\n",
    "    print(\"success\")\n",
    "```\n",
    "\n",
    "But what if you want to check if both of these things are true? It's simple, just use them with the word `and`:\n",
    "\n",
    "```python\n",
    "if day == \"Saturday\" and hour >= 19:\n",
    "    print(\"success\")\n",
    "```"
   ]
  },
  {
   "cell_type": "markdown",
   "metadata": {},
   "source": [
    "The three logic operators are:\n",
    "* **`not`** to get the opposite (so False for True, True for False)\n",
    "* **`and`** which is true when both of its parameters are true\n",
    "* **`or`** which is true when one or both of its parameters are true"
   ]
  },
  {
   "cell_type": "markdown",
   "metadata": {},
   "source": [
    "If that seems confusing try some of these examples out:\n",
    "\n",
    "```python\n",
    "print(True and True)\n",
    "print(True and False)\n",
    "print(False and False)\n",
    "```\n",
    "\n",
    "```python\n",
    "print(True or True)\n",
    "print(True or False)\n",
    "print(False or False)\n",
    "```\n",
    "\n",
    "```python\n",
    "print(not True)\n",
    "print(not False)\n",
    "```"
   ]
  },
  {
   "cell_type": "code",
   "execution_count": null,
   "metadata": {
    "collapsed": true
   },
   "outputs": [],
   "source": []
  },
  {
   "cell_type": "markdown",
   "metadata": {},
   "source": [
    "### Exercise\n",
    "\n",
    "Write a function which takes a day as a string (\"Monday\", \"Tuesday\" etc.) and an hour (a number between 0 and 23). First, get the function to print an appropriate greeting. For example, \"Good morning\" for the morning, \"Good afternoon\" and so on."
   ]
  },
  {
   "cell_type": "code",
   "execution_count": 7,
   "metadata": {
    "collapsed": true
   },
   "outputs": [],
   "source": [
    "def greeting(day, hour):"
   ]
  },
  {
   "cell_type": "markdown",
   "metadata": {},
   "source": [
    "Test your function!"
   ]
  },
  {
   "cell_type": "code",
   "execution_count": null,
   "metadata": {
    "collapsed": false
   },
   "outputs": [],
   "source": [
    "greeting(\"Monday\", 14)\n",
    "greeting(\"Saturday\", 22)\n",
    "greeting(\"Tuesday\", 8)"
   ]
  },
  {
   "cell_type": "markdown",
   "metadata": {},
   "source": [
    "### Exercise\n",
    "\n",
    "Change your function so that:\n",
    "* on Saturday, we're just informal and say \"Hi!\" all day\n",
    "* it says \"Good morning\" up to and including 1pm (13h) on Sunday"
   ]
  },
  {
   "cell_type": "markdown",
   "metadata": {},
   "source": [
    "Now test this:"
   ]
  },
  {
   "cell_type": "code",
   "execution_count": null,
   "metadata": {
    "collapsed": false
   },
   "outputs": [],
   "source": [
    "greeting(\"Saturday\",18) # should say \"Hi!\"\n",
    "greeting(\"Sunday\", 13)  # should say \"Good morning\"\n",
    "greeting(\"Sunday\", 14)  # should say \"Good afternoon\""
   ]
  }
 ],
 "metadata": {
  "kernelspec": {
   "display_name": "Python 3",
   "language": "python",
   "name": "python3"
  },
  "language_info": {
   "codemirror_mode": {
    "name": "ipython",
    "version": 3
   },
   "file_extension": ".py",
   "mimetype": "text/x-python",
   "name": "python",
   "nbconvert_exporter": "python",
   "pygments_lexer": "ipython3",
   "version": "3.5.2"
  }
 },
 "nbformat": 4,
 "nbformat_minor": 0
}
