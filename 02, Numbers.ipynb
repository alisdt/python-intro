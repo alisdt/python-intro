{
 "cells": [
  {
   "cell_type": "markdown",
   "metadata": {
    "collapsed": false
   },
   "source": [
    "### Jupyter makes a good calculator!\n",
    "\n",
    "Try some of these, one at a time:\n",
    "\n",
    "```python\n",
    "print(22+3)\n",
    "print(8-4)\n",
    "print(16*5)\n",
    "print(20/3)\n",
    "print(20//3)\n",
    "```\n",
    "\n",
    "_Jupyter note:_ If you want to add a new cell under the current one, press Esc and then B."
   ]
  },
  {
   "cell_type": "code",
   "execution_count": null,
   "metadata": {
    "collapsed": false
   },
   "outputs": [],
   "source": []
  },
  {
   "cell_type": "markdown",
   "metadata": {
    "collapsed": false
   },
   "source": [
    "### Exercise: what do you think will happen here?\n",
    "\n",
    "```python\n",
    "print(3+\"3\")\n",
    "```\n",
    "\n",
    "Try it. Why do you think this happens?"
   ]
  },
  {
   "cell_type": "code",
   "execution_count": null,
   "metadata": {
    "collapsed": false
   },
   "outputs": [],
   "source": []
  },
  {
   "cell_type": "markdown",
   "metadata": {
    "collapsed": false
   },
   "source": [
    "### Exercise: what do you think will happen here?\n",
    "\n",
    "```python\n",
    "print(\"3\"+\"3\")\n",
    "```\n",
    "\n",
    "Try it."
   ]
  },
  {
   "cell_type": "code",
   "execution_count": null,
   "metadata": {
    "collapsed": true
   },
   "outputs": [],
   "source": []
  }
 ],
 "metadata": {
  "kernelspec": {
   "display_name": "Python 3",
   "language": "python",
   "name": "python3"
  },
  "language_info": {
   "codemirror_mode": {
    "name": "ipython",
    "version": 3
   },
   "file_extension": ".py",
   "mimetype": "text/x-python",
   "name": "python",
   "nbconvert_exporter": "python",
   "pygments_lexer": "ipython3",
   "version": "3.5.2"
  }
 },
 "nbformat": 4,
 "nbformat_minor": 0
}
