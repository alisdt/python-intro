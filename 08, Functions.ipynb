{
 "cells": [
  {
   "cell_type": "markdown",
   "metadata": {},
   "source": [
    "A function is a block of code, with a name, that you can run later.\n",
    "\n",
    "For example:\n",
    "\n",
    "```python\n",
    "def greet():\n",
    "    print(\"Hello you!\")\n",
    "```\n",
    "\n",
    "Note that as with `if` statements, the bit that's *inside* the function\n",
    "is shown by a colon at the end of the line before, and then indentation -- this is another example of a code block.\n",
    "\n",
    "All this function does is print the string `\"Hello you!\"`. (It's a stored series of steps, as I said, but in this simple example there's only one step!)\n",
    "\n",
    "You would call it like this:\n",
    "\n",
    "```python\n",
    "greet()\n",
    "```"
   ]
  },
  {
   "cell_type": "code",
   "execution_count": null,
   "metadata": {
    "collapsed": true
   },
   "outputs": [],
   "source": []
  },
  {
   "cell_type": "markdown",
   "metadata": {},
   "source": [
    "A function can also take in values. For example, we could *define* a function like this:\n",
    "\n",
    "```python\n",
    "def greet_someone(person):\n",
    "    print(f\"Hello {person}!\")\n",
    "```\n",
    "\n",
    "You would *call* this function like this:\n",
    "\n",
    "```python\n",
    "greet_someone(\"Marjory\")\n",
    "```\n",
    "\n",
    "You define a function once, and call it as many times as you like:\n",
    "\n",
    "```python\n",
    "greet_someone(\"Saida\")\n",
    "greet_someone(\"Bernard\")\n",
    "greet_someone(\"Antonia\")\n",
    "```\n",
    "\n",
    "and so on.\n",
    "\n",
    "When you *define* the function, you specify what the function does (using `def`, which is short for **def**ine).\n",
    "\n",
    "When you *call* the function, you run the stored series of steps that you gave in the definition.\n",
    "\n",
    "Values taken in by a function (like `person` in the function above) are called \"parameters\" or \"arguments\"."
   ]
  },
  {
   "cell_type": "code",
   "execution_count": null,
   "metadata": {
    "collapsed": true
   },
   "outputs": [],
   "source": []
  },
  {
   "cell_type": "markdown",
   "metadata": {},
   "source": [
    "A function can also pass a value back to the code that calls it. This is called *returning* a value.\n",
    "\n",
    "```python\n",
    "def square(x):\n",
    "    return x*x\n",
    "```\n",
    "\n",
    "This function always returns the square of the number you give it. You would call it like this:\n",
    "\n",
    "```python\n",
    "y = square(3)\n",
    "```\n",
    "\n",
    "This way `y` takes the value that the function `square()` returns when you give it `3`.\n",
    "\n",
    "Or more directly, to see the result:\n",
    "\n",
    "```python\n",
    "print(square(12))\n",
    "```\n",
    "\n",
    "As before, you define the function once, but can call it as many times as you like."
   ]
  },
  {
   "cell_type": "code",
   "execution_count": null,
   "metadata": {
    "collapsed": true
   },
   "outputs": [],
   "source": []
  },
  {
   "cell_type": "markdown",
   "metadata": {},
   "source": [
    "### Exercise\n",
    "\n",
    "Define a function called `exclamation` which takes any string and returns that string with `!` added to the end.\n",
    "\n",
    "To start you off, here's the first line of the function definition:\n",
    "\n",
    "```python\n",
    "def exclamation(text):\n",
    "```"
   ]
  },
  {
   "cell_type": "code",
   "execution_count": null,
   "metadata": {
    "collapsed": true
   },
   "outputs": [],
   "source": []
  },
  {
   "cell_type": "markdown",
   "metadata": {},
   "source": [
    "Now test your function:"
   ]
  },
  {
   "cell_type": "code",
   "execution_count": null,
   "metadata": {},
   "outputs": [],
   "source": [
    "print(exclamation(\"This works\"))"
   ]
  },
  {
   "cell_type": "markdown",
   "metadata": {
    "collapsed": true
   },
   "source": [
    "### Multiple parameters\n",
    "\n",
    "```python\n",
    "def balance_report(person, balance):\n",
    "    return f\"Balance for {person} is {balance:.2f}\"\n",
    "```\n",
    "\n",
    "Functions can take more than one parameter. For example, the function above returns a sentence describing a balance on an account. You could call this with:\n",
    "\n",
    "```python\n",
    "report = balance_report(\"Carolyn\", 12)\n",
    "print(report)\n",
    "```\n",
    "\n",
    "(Recall that `{....:.2f}` in an f-string means \"give two decimal places\" for a number) "
   ]
  },
  {
   "cell_type": "code",
   "execution_count": null,
   "metadata": {},
   "outputs": [],
   "source": []
  },
  {
   "cell_type": "markdown",
   "metadata": {},
   "source": [
    "### Exercise\n",
    "\n",
    "Using what you've learned about functions, formatting, and `if`,\n",
    "write a function which correctly pluralises a simple statement.\n",
    "\n",
    "For example, if called with 1 it could return, \"There is 1 dog\"\n",
    "and if called with 5 it will return \"There are 5 dogs\". Test it for singular and plural.\n",
    "\n",
    "As before, here's the first line of your function definition:\n",
    "\n",
    "```python\n",
    "def pluralise_dogs(number_of_dogs):\n",
    "```"
   ]
  },
  {
   "cell_type": "code",
   "execution_count": null,
   "metadata": {},
   "outputs": [],
   "source": []
  },
  {
   "cell_type": "markdown",
   "metadata": {},
   "source": [
    "Now test this:"
   ]
  },
  {
   "cell_type": "code",
   "execution_count": null,
   "metadata": {},
   "outputs": [],
   "source": [
    "print(pluralise_dogs(10))\n",
    "print(pluralise_dogs(1))\n",
    "print(pluralise_dogs(0))"
   ]
  },
  {
   "cell_type": "markdown",
   "metadata": {},
   "source": [
    "### Extra exercise\n",
    "\n",
    "Once you've completed the above exercise, try this:"
   ]
  },
  {
   "cell_type": "code",
   "execution_count": null,
   "metadata": {},
   "outputs": [],
   "source": [
    "print(pluralise_dogs(-5))"
   ]
  },
  {
   "cell_type": "markdown",
   "metadata": {},
   "source": [
    "What does it do? What *should* it do? Change your function to account for this."
   ]
  },
  {
   "cell_type": "markdown",
   "metadata": {},
   "source": [
    "### Additional extra exercise\n",
    "\n",
    "Write a `pluralise` function which takes a number and a singular noun. It should return a sentence like the above, pluralised as appropriate."
   ]
  },
  {
   "cell_type": "code",
   "execution_count": 12,
   "metadata": {
    "collapsed": true
   },
   "outputs": [],
   "source": [
    "def pluralise(n, noun):"
   ]
  },
  {
   "cell_type": "markdown",
   "metadata": {},
   "source": [
    "For example, the output for the example below should be \n",
    "\n",
    "```\n",
    "There are 3 mice\n",
    "```"
   ]
  },
  {
   "cell_type": "code",
   "execution_count": null,
   "metadata": {},
   "outputs": [],
   "source": [
    "print(pluralise(3, \"mouse\"))"
   ]
  },
  {
   "cell_type": "markdown",
   "metadata": {},
   "source": [
    "Make sure your new function gives correct output for the following:"
   ]
  },
  {
   "cell_type": "code",
   "execution_count": null,
   "metadata": {},
   "outputs": [],
   "source": [
    "print(pluralise(1, \"dog\"))\n",
    "print(pluralise(10, \"dog\"))\n",
    "print(pluralise(0, \"dog\"))\n",
    "print(pluralise(5, \"sheep\"))\n",
    "print(pluralise(2, \"person\"))"
   ]
  }
 ],
 "metadata": {
  "anaconda-cloud": {},
  "kernelspec": {
   "display_name": "Python 3 (ipykernel)",
   "language": "python",
   "name": "python3"
  },
  "language_info": {
   "codemirror_mode": {
    "name": "ipython",
    "version": 3
   },
   "file_extension": ".py",
   "mimetype": "text/x-python",
   "name": "python",
   "nbconvert_exporter": "python",
   "pygments_lexer": "ipython3",
   "version": "3.9.2"
  }
 },
 "nbformat": 4,
 "nbformat_minor": 1
}
