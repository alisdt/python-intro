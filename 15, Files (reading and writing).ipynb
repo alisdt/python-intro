{
 "cells": [
  {
   "cell_type": "markdown",
   "metadata": {},
   "source": [
    "A file can be opened for writing by adding a second argument\n",
    "containing `\"w\"`. Be sure to choose a good location for your test\n",
    "text file, so that you can easily check that it's been created.\n",
    "\n",
    "**CAUTION:** Opening a file for *writing* works like this\n",
    "* If the file does not exist, it is created.\n",
    "* If the file does exist, a new, empty file is still created and this *overwrites* the existing file without warning."
   ]
  },
  {
   "cell_type": "markdown",
   "metadata": {},
   "source": [
    "Try this (but change the directory and filename to something in your files on the server).\n",
    "\n",
    "Remember that the filename should be something that *doesn't exist yet*, if you use an existing filename it will be overwritten.\n",
    "\n",
    "```python\n",
    "f_write = open(\"/home/atullo2/test.txt\",\"w\")\n",
    "f_write.write(\"this is a test\")\n",
    "f_write.close()\n",
    "```"
   ]
  },
  {
   "cell_type": "code",
   "execution_count": null,
   "metadata": {
    "collapsed": true
   },
   "outputs": [],
   "source": []
  },
  {
   "cell_type": "markdown",
   "metadata": {},
   "source": [
    "Let's check that this file has been created. Note that we can\n",
    "explicitly say we're reading a file with `\"r\"` -- though if we\n",
    "don't specify, Python assumes that a file is open for reading.\n",
    "\n",
    "```python\n",
    "f_read = open(\"/home/atullo2/test.txt\",\"r\")\n",
    "text = f_read.read()\n",
    "print(text)\n",
    "```"
   ]
  },
  {
   "cell_type": "code",
   "execution_count": null,
   "metadata": {
    "collapsed": true
   },
   "outputs": [],
   "source": []
  },
  {
   "cell_type": "markdown",
   "metadata": {},
   "source": [
    "Now you have all the tools to write a program that processes information -- reading a file,\n",
    "doing something to the information in it, then writing it out to another file.\n",
    "\n",
    "Here's a reminder of how the `replace` function can be used to remove things from a string:\n",
    "\n",
    "```python\n",
    "text = \"hello world\"\n",
    "text = text.replace(\"e\",\"\")\n",
    "print(text)\n",
    "```"
   ]
  },
  {
   "cell_type": "code",
   "execution_count": null,
   "metadata": {},
   "outputs": [],
   "source": []
  },
  {
   "cell_type": "markdown",
   "metadata": {
    "collapsed": true
   },
   "source": [
    "### Exercise\n",
    "\n",
    "Write a function which returns the input with the vowels aeiou removed.\n",
    "(the replace() method will be useful here)."
   ]
  },
  {
   "cell_type": "code",
   "execution_count": 1,
   "metadata": {
    "collapsed": true
   },
   "outputs": [],
   "source": [
    "def remove_vowels(text):\n",
    "    for vowel in [\"a\", \"e\", \"i\", \"o\", \"u\"]:\n",
    "        text = text.replace(vowel,\"\")\n",
    "    return text"
   ]
  },
  {
   "cell_type": "markdown",
   "metadata": {},
   "source": [
    "Once you've finished test this function using the code below. "
   ]
  },
  {
   "cell_type": "code",
   "execution_count": 2,
   "metadata": {},
   "outputs": [
    {
     "name": "stdout",
     "output_type": "stream",
     "text": [
      "th qck brwn fx jmpd vr th lzy dg\n"
     ]
    }
   ],
   "source": [
    "print(remove_vowels(\"the quick brown fox jumped over the lazy dog\"))"
   ]
  },
  {
   "cell_type": "markdown",
   "metadata": {},
   "source": [
    "Now make sure you have a text file with a few lines of text in it, to use as input. (If you still have the one you used at the start of the last worksheet, that's fine)."
   ]
  },
  {
   "cell_type": "markdown",
   "metadata": {},
   "source": [
    "### Exercise\n",
    "\n",
    "Write a function to read the file you just created,\n",
    " run the `remove_vowels()` function on the text, then save the\n",
    "result in a different file. The function should take the input\n",
    " and output filenames as parameters."
   ]
  },
  {
   "cell_type": "code",
   "execution_count": 7,
   "metadata": {
    "collapsed": true
   },
   "outputs": [],
   "source": [
    "def remove_vowels_from_file(in_filename, out_filename):"
   ]
  },
  {
   "cell_type": "markdown",
   "metadata": {},
   "source": [
    "Now test your function using the code below -- replace the filenames with ones that are appropriate to your computer. As before, remember that the filename for the output should be one that doesn't exist yet."
   ]
  },
  {
   "cell_type": "code",
   "execution_count": 8,
   "metadata": {},
   "outputs": [],
   "source": [
    "remove_vowels_from_file(\n",
    "    \"/path/to/your/files/in.txt\",\n",
    "    \"/path/to/your/files/out.txt\"\n",
    ")"
   ]
  },
  {
   "cell_type": "markdown",
   "metadata": {},
   "source": [
    "Since a filename is just a string, we can change it to create a new filename.\n",
    "\n",
    "For example, let's say that you want to generate the name for the output file automatically.\n",
    "\n",
    "Try this:\n",
    "\n",
    "```python\n",
    "filename = \"/home/atullo2/test.txt\"\n",
    "output_filename = filename[:-4]+\"_results.txt\"\n",
    "```\n",
    "\n",
    "(in case the use of slicing on the second line is a little cryptic: `filename[:-4]` means \"take the string filename from the beginning, to four characters from the end\")"
   ]
  },
  {
   "cell_type": "code",
   "execution_count": null,
   "metadata": {
    "collapsed": true
   },
   "outputs": [],
   "source": []
  },
  {
   "cell_type": "markdown",
   "metadata": {},
   "source": [
    "### Exercise\n",
    "\n",
    "Using the method above, make a copy of `remove_vowels_from_file()` and change it to\n",
    "make the filename for the output from the input filename.\n",
    " \n",
    "This time it will only need one parameter (`in_filename`).\n",
    " \n",
    "For example: if the input filename is called\n",
    "\n",
    "`/home/atullo2/text_sample.txt`\n",
    "\n",
    "then the output will be called\n",
    "\n",
    "`/home/atullo2/text_sample_out.txt`"
   ]
  },
  {
   "cell_type": "markdown",
   "metadata": {},
   "source": [
    "Now test your new function."
   ]
  },
  {
   "cell_type": "code",
   "execution_count": 12,
   "metadata": {
    "collapsed": true
   },
   "outputs": [],
   "source": [
    "remove_vowels_from_file(\"reason.txt\")"
   ]
  },
  {
   "cell_type": "markdown",
   "metadata": {},
   "source": [
    "Here's an example of how to check for existence of a file before opening\n",
    "a new one, to avoid overwriting potentially valuable data.\n",
    "\n",
    "No need to type this one in, it's just an example to study!\n",
    "\n",
    "Note the use of `import` -- Python has a number of \"modules\" which provide extra functions for you to use. If you want to use one of these, you have to import it first.\n",
    "\n",
    "```python\n",
    "import os.path\n",
    "\n",
    "participant_number = 5\n",
    "filename = \"participant_{participant_number}.txt\"\n",
    "\n",
    "if os.path.exists(filename):\n",
    "    print(\"it exists already, not opening file!\")\n",
    "else:\n",
    "    f = open(filename, \"w\")\n",
    "    ....\n",
    "```"
   ]
  },
  {
   "cell_type": "code",
   "execution_count": null,
   "metadata": {
    "collapsed": true
   },
   "outputs": [],
   "source": []
  }
 ],
 "metadata": {
  "anaconda-cloud": {},
  "kernelspec": {
   "display_name": "Python 3 (ipykernel)",
   "language": "python",
   "name": "python3"
  },
  "language_info": {
   "codemirror_mode": {
    "name": "ipython",
    "version": 3
   },
   "file_extension": ".py",
   "mimetype": "text/x-python",
   "name": "python",
   "nbconvert_exporter": "python",
   "pygments_lexer": "ipython3",
   "version": "3.9.2"
  }
 },
 "nbformat": 4,
 "nbformat_minor": 1
}
