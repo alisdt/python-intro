{
 "cells": [
  {
   "cell_type": "markdown",
   "metadata": {
    "collapsed": true
   },
   "source": [
    "### More examples and exercises\n",
    "\n",
    "This set of exercises is designed to revise the material\n",
    "we've already covered, and introduce you to the\n",
    "problem-solving required to turn a task into a program."
   ]
  },
  {
   "cell_type": "markdown",
   "metadata": {
    "collapsed": true
   },
   "source": [
    "Strings have a `split()` method, which splits the string up according to the given separator.\n",
    "\n",
    "```python\n",
    "text = \"An example string to split\"\n",
    "words = text.split(\" \")\n",
    "print(words)\n",
    "```"
   ]
  },
  {
   "cell_type": "code",
   "execution_count": null,
   "metadata": {
    "collapsed": true
   },
   "outputs": [],
   "source": []
  },
  {
   "cell_type": "markdown",
   "metadata": {
    "collapsed": true
   },
   "source": [
    "If you don't give a separator, `split()` will split up the string using spaces, tabs, and newlines.\n",
    "\n",
    "```python\n",
    "words = text.split()\n",
    "print(words)\n",
    "```"
   ]
  },
  {
   "cell_type": "code",
   "execution_count": null,
   "metadata": {
    "collapsed": true
   },
   "outputs": [],
   "source": []
  },
  {
   "cell_type": "markdown",
   "metadata": {
    "collapsed": true
   },
   "source": [
    "`split()` returns a list. As with any other list, it can used in a loop.\n",
    "\n",
    "For example:\n",
    "\n",
    "```python\n",
    "for word in words:\n",
    "    print(word.upper())\n",
    "```"
   ]
  },
  {
   "cell_type": "code",
   "execution_count": null,
   "metadata": {
    "collapsed": true
   },
   "outputs": [],
   "source": []
  },
  {
   "cell_type": "markdown",
   "metadata": {
    "collapsed": true
   },
   "source": [
    "### Exercise\n",
    "\n",
    "Use split() and len() to write a function which returns the number of words in a string."
   ]
  },
  {
   "cell_type": "code",
   "execution_count": 1,
   "metadata": {
    "collapsed": true
   },
   "outputs": [],
   "source": [
    "def number_of_words(text):"
   ]
  },
  {
   "cell_type": "markdown",
   "metadata": {},
   "source": [
    "Test this using the code below:"
   ]
  },
  {
   "cell_type": "code",
   "execution_count": null,
   "metadata": {
    "collapsed": false
   },
   "outputs": [],
   "source": [
    "text = \"This answer to this word count example is 9\"\n",
    "print(number_of_words(text))"
   ]
  },
  {
   "cell_type": "markdown",
   "metadata": {
    "collapsed": true
   },
   "source": [
    "### Exercise\n",
    "\n",
    "Use a for loop to print incrementing numbers next\n",
    "to the words in a string. You'll need to use a variable to\n",
    "keep track of the number of words printed.\n",
    "\n",
    "For example, for the input \"This is an example\" your\n",
    "function should print\n",
    "\n",
    "```\n",
    "1 This\n",
    "2 is\n",
    "3 an\n",
    "4 example\n",
    "```"
   ]
  },
  {
   "cell_type": "code",
   "execution_count": 5,
   "metadata": {
    "collapsed": true
   },
   "outputs": [],
   "source": [
    "def enumerate_words(sentence):"
   ]
  },
  {
   "cell_type": "markdown",
   "metadata": {},
   "source": [
    "Test your function with the code below:"
   ]
  },
  {
   "cell_type": "code",
   "execution_count": null,
   "metadata": {
    "collapsed": false
   },
   "outputs": [],
   "source": [
    "enumerate_words(\"Hello there\")\n",
    "enumerate_words(\"A longer example sentence\")"
   ]
  },
  {
   "cell_type": "markdown",
   "metadata": {
    "collapsed": true
   },
   "source": [
    "### Exercise\n",
    "\n",
    "Use `for`, `if` and `in` to write a function\n",
    "takes a single parameter, which should be a list of\n",
    "strings. If any of the strings in the list contain a\n",
    "'wh', return True, otherwise return False"
   ]
  },
  {
   "cell_type": "code",
   "execution_count": 7,
   "metadata": {
    "collapsed": true
   },
   "outputs": [],
   "source": [
    "def any_contain_wh(words):"
   ]
  },
  {
   "cell_type": "markdown",
   "metadata": {},
   "source": [
    "Test this with the examples below:"
   ]
  },
  {
   "cell_type": "code",
   "execution_count": null,
   "metadata": {
    "collapsed": false
   },
   "outputs": [],
   "source": [
    "print(any_contain_wh([\"good\", \"afternoon\"]))\n",
    "print(any_contain_wh([\"why\", \"is\", \"it\"]))\n",
    "print(any_contain_wh([\"you\", \"said\", \"what\"]))"
   ]
  },
  {
   "cell_type": "markdown",
   "metadata": {
    "collapsed": true
   },
   "source": [
    "### Exercise\n",
    "\n",
    "Write a function which performs a search like the one above, but instead of being fixed\n",
    "search for to \"wh\", it searches for a string which is passed as\n",
    "a parameter. \n",
    "\n",
    "So, if any of the strings in the list\n",
    "contain whatever is in `target`, return True, otherwise\n",
    "return False."
   ]
  },
  {
   "cell_type": "code",
   "execution_count": 9,
   "metadata": {
    "collapsed": true
   },
   "outputs": [],
   "source": [
    "def any_contain(words, target):"
   ]
  },
  {
   "cell_type": "markdown",
   "metadata": {},
   "source": [
    "Test this with the examples below:"
   ]
  },
  {
   "cell_type": "code",
   "execution_count": null,
   "metadata": {
    "collapsed": false
   },
   "outputs": [],
   "source": [
    "print(any_contain([\"good\", \"afternoon\"], \"tern\"))\n",
    "print(any_contain([\"i\", \"like\", \"programming\"], \"zz\"))"
   ]
  }
 ],
 "metadata": {
  "anaconda-cloud": {},
  "kernelspec": {
   "display_name": "Python [default]",
   "language": "python",
   "name": "python3"
  },
  "language_info": {
   "codemirror_mode": {
    "name": "ipython",
    "version": 3
   },
   "file_extension": ".py",
   "mimetype": "text/x-python",
   "name": "python",
   "nbconvert_exporter": "python",
   "pygments_lexer": "ipython3",
   "version": "3.5.2"
  }
 },
 "nbformat": 4,
 "nbformat_minor": 0
}
